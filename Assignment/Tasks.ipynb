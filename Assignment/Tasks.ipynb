{
 "cells": [
  {
   "cell_type": "code",
   "execution_count": 1,
   "metadata": {},
   "outputs": [
    {
     "name": "stderr",
     "output_type": "stream",
     "text": [
      "Using TensorFlow backend.\n"
     ]
    }
   ],
   "source": [
    "# Library import\n",
    "import math\n",
    "import numpy as np\n",
    "#OpenCV for face detection\n",
    "import cv2\n",
    "#os to work with images\n",
    "import os\n",
    "#The glob module finds all the pathnames matching a specified pattern\n",
    "import glob\n",
    "#dlib for face detection\n",
    "import dlib\n",
    "#csv to work with csv file\n",
    "import csv\n",
    "import pandas as pd\n",
    "from keras.preprocessing import image\n",
    "from skimage import exposure\n",
    "from skimage import feature\n",
    "from imutils import paths\n",
    "import argparse\n",
    "import imutils\n",
    "#to create the confusion matrices to assess the ML models\n",
    "from sklearn.metrics import confusion_matrix\n",
    "#to create the multi-layer perception neural network classifiers\n",
    "from sklearn.neural_network import MLPClassifier\n",
    "#to randomly shuffle the lists\n",
    "from random import shuffle\n",
    "#to create the support vector machine models\n",
    "from sklearn import svm\n",
    "#to calculate the cross-validation scores\n",
    "from sklearn.model_selection import cross_val_score\n",
    "#to plot the graphs\n",
    "import matplotlib.pyplot as plt\n",
    "#to create the learning curves\n",
    "from sklearn.model_selection import learning_curve\n"
   ]
  },
  {
   "cell_type": "markdown",
   "metadata": {},
   "source": [
    "The following code block defines a function to plot the learning curves, which is used to assess the algorithms chosen for the tasks. The function is obtained from: \n",
    "https://scikit-learn.org/stable/auto_examples/model_selection/plot_learning_curve.html#sphx-glr-auto-examples-model-selection-plot-learning-curve-py"
   ]
  },
  {
   "cell_type": "code",
   "execution_count": 2,
   "metadata": {},
   "outputs": [],
   "source": [
    "def plot_learning_curve(estimator, title, X, y, ylim=None, cv=None,\n",
    "                        n_jobs=None, train_sizes=np.linspace(.1, 1.0, 5)):\n",
    "   \n",
    "    plt.figure()\n",
    "    plt.title(title)\n",
    "    if ylim is not None:\n",
    "        plt.ylim(*ylim)\n",
    "    plt.xlabel(\"Training examples\")\n",
    "    plt.ylabel(\"Score\")\n",
    "    train_sizes, train_scores, test_scores = learning_curve(\n",
    "        estimator, X, y, cv=cv, n_jobs=n_jobs, train_sizes=train_sizes)\n",
    "    train_scores_mean = np.mean(train_scores, axis=1)\n",
    "    train_scores_std = np.std(train_scores, axis=1)\n",
    "    test_scores_mean = np.mean(test_scores, axis=1)\n",
    "    test_scores_std = np.std(test_scores, axis=1)\n",
    "    plt.grid()\n",
    "\n",
    "    plt.fill_between(train_sizes, train_scores_mean - train_scores_std,\n",
    "                     train_scores_mean + train_scores_std, alpha=0.1,\n",
    "                     color=\"r\")\n",
    "    plt.fill_between(train_sizes, test_scores_mean - test_scores_std,\n",
    "                     test_scores_mean + test_scores_std, alpha=0.1, color=\"g\")\n",
    "    plt.plot(train_sizes, train_scores_mean, 'o-', color=\"r\",\n",
    "             label=\"Training score\")\n",
    "    plt.plot(train_sizes, test_scores_mean, 'o-', color=\"g\",\n",
    "             label=\"Cross-validation score\")\n",
    "\n",
    "    plt.legend(loc=\"best\")\n",
    "    return plt\n"
   ]
  },
  {
   "cell_type": "markdown",
   "metadata": {},
   "source": [
    "# Image extraction\n",
    "The following code blocks defines an algorithm to extract the images\n",
    "from the dataset folder. The images are extracted in numerical order.\n",
    "During the image extraction, the landmarks for each image are detected.\n",
    "For the images, where the landmarks cannot be detected, there is a list\n",
    "'images_to_remove', which keeps the paths to these images. The rest of\n",
    "the images are extracted by the 'images_to_keep' list, which holds the\n",
    "paths to these images and 'landmark_features' list, which holds the\n",
    "coordinates of the detected landmarks for every image in the \n",
    "'images_to_keep' list."
   ]
  },
  {
   "cell_type": "code",
   "execution_count": 158,
   "metadata": {},
   "outputs": [],
   "source": [
    "# Open and store images and images paths\n",
    "\n",
    "#Definition of the folder direction that contains all images\n",
    "#This folder must be in the same folder as the notebook code file\n",
    "#This folder must contain exactly 5000 images, which were provided\n",
    "imgs_dir = \"C:/Users/ching/Desktop/Assignment/dataset/\"\n",
    "#Name of the file, which contains labels for the images.\n",
    "#The file has to be in the same folder as the code file.\n",
    "attribute_list_filename = 'attribute_list.csv'\n",
    "#Array, which will contain paths of the images\n",
    "imgs = []\n",
    "for i in range (1, 5001):\n",
    "        imgs_path = os.path.join(imgs_dir + str(i) + \".png\")\n",
    "        imgs.extend(glob.glob(imgs_path))\n"
   ]
  },
  {
   "cell_type": "code",
   "execution_count": 159,
   "metadata": {},
   "outputs": [],
   "source": [
    "# This block is based on the landmarks.py code from the Applied Machine Learning Systems\n",
    "# Laboratory Exercise 2. The difference is in the image_path definition. In this version\n",
    "# The image paths are extracted in numerical order from 1.png to 5000.png\n",
    "\n",
    "global basedir, image_paths, target_size\n",
    "\n",
    "#Definition of the folder, where the images are located\n",
    "basedir = './dataset'\n",
    "images_dir = \"C:/Users/ching/Desktop/Assignment/dataset/\"\n",
    "labels_filename = 'attribute_list.csv'\n",
    "\n",
    "detector = dlib.get_frontal_face_detector()\n",
    "predictor = dlib.shape_predictor('shape_predictor_68_face_landmarks.dat')\n",
    "\n",
    "def shape_to_np(shape, dtype=\"int\"):\n",
    "    # initialize the list of (x, y)-coordinates\n",
    "    coords = np.zeros((shape.num_parts, 2), dtype=dtype)\n",
    "\n",
    "    # loop over all facial landmarks and convert them\n",
    "    # to a 2-tuple of (x, y)-coordinates\n",
    "    for i in range(0, shape.num_parts):\n",
    "        coords[i] = (shape.part(i).x, shape.part(i).y)\n",
    "\n",
    "    # return the list of (x, y)-coordinates\n",
    "    return coords\n",
    "\n",
    "def rect_to_bb(rect):\n",
    "    # take a bounding predicted by dlib and convert it\n",
    "    # to the format (x, y, w, h) as we would normally do\n",
    "    # with OpenCV\n",
    "    x = rect.left()\n",
    "    y = rect.top()\n",
    "    w = rect.right() - x\n",
    "    h = rect.bottom() - y\n",
    "\n",
    "    # return a tuple of (x, y, w, h)\n",
    "    return (x, y, w, h)\n",
    "\n",
    "\n",
    "def run_dlib_shape(image):\n",
    "    # in this function we load the image, detect the landmarks of the face, and then return the image and the landmarks\n",
    "    # load the input image, resize it, and convert it to grayscale\n",
    "    resized_image = image.astype('uint8')\n",
    "\n",
    "    gray = cv2.cvtColor(resized_image, cv2.COLOR_BGR2GRAY)\n",
    "    gray = gray.astype('uint8')\n",
    "\n",
    "    # detect faces in the grayscale image\n",
    "    rects = detector(gray, 1)\n",
    "    num_faces = len(rects)\n",
    "\n",
    "    if num_faces == 0:\n",
    "        return None, resized_image\n",
    "\n",
    "    face_areas = np.zeros((1, num_faces))\n",
    "    face_shapes = np.zeros((136, num_faces), dtype=np.int64)\n",
    "\n",
    "    # loop over the face detections\n",
    "    for (i, rect) in enumerate(rects):\n",
    "        # determine the facial landmarks for the face region, then\n",
    "        # convert the facial landmark (x, y)-coordinates to a NumPy\n",
    "        # array\n",
    "        temp_shape = predictor(gray, rect)\n",
    "        temp_shape = shape_to_np(temp_shape)\n",
    "\n",
    "        # convert dlib's rectangle to a OpenCV-style bounding box\n",
    "        # [i.e., (x, y, w, h)],\n",
    "        #   (x, y, w, h) = face_utils.rect_to_bb(rect)\n",
    "        (x, y, w, h) = rect_to_bb(rect)\n",
    "        face_shapes[:, i] = np.reshape(temp_shape, [136])\n",
    "        face_areas[0, i] = w * h\n",
    "    # find largest face and keep\n",
    "    dlibout = np.reshape(np.transpose(face_shapes[:, np.argmax(face_areas)]), [68, 2])\n",
    "\n",
    "    return dlibout, resized_image\n",
    "\n",
    "def extract_features_labels():\n",
    "\n",
    "#     This funtion extracts the landmarks features for all images in the folder 'dataset/celeba'.\n",
    "#     It also extract the gender label for each image.\n",
    "#     :return:\n",
    "#         landmark_features:  an array containing 68 landmark points for each image in which a face was detected\n",
    "#         gender_labels:      an array containing the gender label (male=0 and female=1) for each image in\n",
    "#                             which a face was detected\n",
    "  \n",
    "    image_paths = []\n",
    "    # Images path extraction in numerical order\n",
    "    for i in range (1, 5001):\n",
    "            imgs_path = os.path.join(imgs_dir + str(i) + \".png\")\n",
    "            image_paths.extend(glob.glob(imgs_path))\n",
    "    #image_paths = [os.path.join(images_dir, l) for l in os.listdir(images_dir)]\n",
    "\n",
    "    target_size = None\n",
    "    # Extraction of the labels from the attribute_list.csv\n",
    "    labels_file = open(labels_filename, 'r')\n",
    "    lines = labels_file.readlines()\n",
    "    #gender_labels = {line.split(',')[0] : int(line.split(',')[6]) for line in lines[2:]}\n",
    "    if os.path.isdir(images_dir):\n",
    "        all_features = []       # List of landmarks coordinates for the images\n",
    "        images_to_keep = []     # List of paths of the images, for which the landmarks are extracted\n",
    "        images_to_remove = []   # List of paths of the images, for which the landmarks cannot be extracted\n",
    "        for img_path in image_paths:\n",
    "            file_name= img_path.split('.')[1].split('/')[-1]\n",
    "\n",
    "            # load image\n",
    "            img = image.img_to_array(\n",
    "                image.load_img(img_path,\n",
    "                               target_size=target_size,\n",
    "                               interpolation='bicubic'))\n",
    "            features, _ = run_dlib_shape(img)\n",
    "            if features is not None:\n",
    "                all_features.append(features)\n",
    "                images_to_keep.append(img_path)\n",
    "\n",
    "                #all_labels.append(gender_labels[file_name])\n",
    "            else:\n",
    "                images_to_remove.append(img_path)\n",
    "\n",
    "    landmark_features = np.array(all_features)\n",
    "    return landmark_features, images_to_keep, images_to_remove#, gender_labels\n",
    "\n"
   ]
  },
  {
   "cell_type": "code",
   "execution_count": null,
   "metadata": {},
   "outputs": [],
   "source": [
    "#landmark features, paths of the images to keep, paths of the images to remove\n",
    "imgs_features, imgs_to_keep, imgs_to_remove = extract_features_labels()"
   ]
  },
  {
   "cell_type": "code",
   "execution_count": null,
   "metadata": {},
   "outputs": [],
   "source": [
    "#Load the attributes csv file\n",
    "\n",
    "attribute_list = pd.read_csv(attribute_list_filename)\n",
    "#attribute_list[:5]"
   ]
  },
  {
   "cell_type": "markdown",
   "metadata": {},
   "source": [
    "# Image class definition and the remove of the noise data\n",
    "To manage all the data, the information about every remaining image will be\n",
    "saved in one object of the 'Image' class. The objects of this class have\n",
    "an information about the image's path, rgb and gray arrays and all the labels.\n",
    "All these objects are saved into the imageList, the length of which is\n",
    "the same as the number of images kept."
   ]
  },
  {
   "cell_type": "code",
   "execution_count": null,
   "metadata": {},
   "outputs": [],
   "source": [
    "#Define a Class to contain all info (path and attributes) of all images\n",
    "class Image:\n",
    "    def __init__(self, image, hair_color, eyeglasses,\n",
    "                smiling, young, human, landmarks, img, gray):\n",
    "        self.image = image #Image path\n",
    "        self.hair_color = hair_color\n",
    "        self.eyeglasses = eyeglasses\n",
    "        self.smiling = smiling\n",
    "        self.young = young\n",
    "        self.human = human\n",
    "        self.landmarks = landmarks\n",
    "        self.img = img\n",
    "        self.gray = gray        "
   ]
  },
  {
   "cell_type": "code",
   "execution_count": null,
   "metadata": {},
   "outputs": [],
   "source": [
    "#create a list of Image objects\n",
    "\n",
    "imageList = []\n",
    "j=0\n",
    "for i in range (0,5000):\n",
    "    landmarks=[]   #extraction of the landmarks and paths of the images to be kept\n",
    "    if (j < len(imgs_to_keep)):\n",
    "        if (imgs[i] == imgs_to_keep[j]):\n",
    "            landmarks = imgs_features[j]\n",
    "            j = j+1\n",
    "    img = cv2.imread(imgs[i])                      # RGB 256x256x3 image array\n",
    "    gray = cv2.cvtColor(img, cv2.COLOR_BGR2GRAY)   # Gray image from RGB data\n",
    "    hair_color = int(attribute_list.loc[i+1][1])   # The following are the labels extraction from the attributs file\n",
    "    eyeglasses = int(attribute_list.loc[i+1][2])\n",
    "    smiling = int(attribute_list.loc[i+1][3])\n",
    "    young = int(attribute_list.loc[i+1][4])\n",
    "    human = int(attribute_list.loc[i+1][5])\n",
    "    \n",
    "    imageList.append(Image(imgs[i], hair_color,     # The object is created and appended to the list.\n",
    "                          eyeglasses,\n",
    "                          smiling,\n",
    "                          young,\n",
    "                          human,\n",
    "                          landmarks,\n",
    "                          img,\n",
    "                          gray))\n",
    "print(\"done\")"
   ]
  },
  {
   "cell_type": "markdown",
   "metadata": {},
   "source": [
    "The following code block identifies the images, which must be removed\n",
    "from the dataset (noise images). These are from the 'images_to_remove'\n",
    "list. This code save the indexes of the images in the 'imageList',\n",
    "the paths of which are mentioned in 'imgs_to_remove' list"
   ]
  },
  {
   "cell_type": "code",
   "execution_count": null,
   "metadata": {},
   "outputs": [],
   "source": [
    "j=0\n",
    "removeIndex = []\n",
    "for i in range (0,5000):\n",
    "    if (j < len(imgs_to_remove)):\n",
    "        if (imageList[i].image == imgs_to_remove[j]):\n",
    "            removeIndex.append(i)\n",
    "            j = j+1\n",
    "        #elif (imageList[i].hair_color == -1):\n",
    "            #removeIndex.append(i)"
   ]
  },
  {
   "cell_type": "markdown",
   "metadata": {},
   "source": [
    "This code block deletes the images from the dataset folder to show that there is no noise data present. This block is optional, because all information about the images are already stored in 'imageList'. Therefore the code loop in the block is commented. "
   ]
  },
  {
   "cell_type": "code",
   "execution_count": null,
   "metadata": {},
   "outputs": [],
   "source": [
    "# for i in range (0 , len(removeIndex)):\n",
    "#     os.remove(imageList[removeIndex[i]].image)\n",
    "print(\"done\")"
   ]
  },
  {
   "cell_type": "markdown",
   "metadata": {},
   "source": [
    "The following block removes the images from the 'imageList'\n",
    "It is done in the reverse order, so that the last images are\n",
    "removed first, so that the indexes of the first images are not\n",
    "changing."
   ]
  },
  {
   "cell_type": "code",
   "execution_count": null,
   "metadata": {},
   "outputs": [],
   "source": [
    "removeIndex.reverse()\n",
    "for i in range (0 , len(removeIndex)):\n",
    "    removeElement = imageList.pop(removeIndex[i])\n",
    "print(\"done\")\n"
   ]
  },
  {
   "cell_type": "markdown",
   "metadata": {},
   "source": [
    "# Additional features extraction.\n",
    "As the images are removed from the noise data, it is possible to extract\n",
    "additional features, which will be used to train the models. These additional\n",
    "features will be tested in the ML models i addition to the landmarks coordinates\n",
    "for each task, to determine which features lead to the highest accuracy.\n",
    "\n",
    "The following class is an extention of 'Image' class, which contains all\n",
    "information of the 'Image' class features through the imageInfo variable\n",
    "and information about additional features of every object in 'imageList'\n",
    "of the 'Image' class."
   ]
  },
  {
   "cell_type": "code",
   "execution_count": null,
   "metadata": {},
   "outputs": [],
   "source": [
    "class ImageToProcess:\n",
    "    def __init__(self, imageInfo, hog, hogImage, faceCenter, landmarkDistance, landmarkNormDistance, landmarkAngle):\n",
    "        self.imageInfo = imageInfo                        # information about the 'Image' class features of an object\n",
    "        self.hog = hog                                    # Histogram of Oriented Gradients (additional feature)\n",
    "        self.hogImage = hogImage                          # Feature to keep an array of the HOG of the image, to visualize it\n",
    "                                                          # it was used during the code development to check that the\n",
    "                                                          # histograms are created correctly\n",
    "        self.faceCenter = faceCenter                      # Coordinates of the face center according to the landmarks\n",
    "        self.landmarkDistance = landmarkDistance          # Distances of the landmarks from the face center\n",
    "        self.landmarkNormDistance = landmarkNormDistance  # Normalized distances\n",
    "        self.landmarkAngle = landmarkAngle                # Normalized angles (relative to x-axis) of the \n",
    "                                                          #(center ---> landmark) vectors"
   ]
  },
  {
   "cell_type": "markdown",
   "metadata": {},
   "source": [
    "The following block of code creates an 'imageToProcessList' list, which\n",
    "keeps the data about the objects of the 'ImageToProcessList' class."
   ]
  },
  {
   "cell_type": "code",
   "execution_count": null,
   "metadata": {},
   "outputs": [],
   "source": [
    "imageToProcessList = []\n",
    "j=0\n",
    "for i in range (0,len(imageList)):\n",
    "\n",
    "    # Extract Histogram of Oriented Gradients from the image.\n",
    "    # The parameters were chosen experimentally. These parameters\n",
    "    # result to the high accuracy and good learning speed of the\n",
    "    # learning algorithms. The parameters can be changed, if needed\n",
    "    # for future purposes.\n",
    "    (hog, hogImage) = feature.hog(imageList[i].gray, orientations=9, pixels_per_cell=(32, 32),\n",
    "                            cells_per_block=(2, 2), transform_sqrt=True, block_norm=\"L1\", visualise=True)\n",
    " \n",
    "    # 'hogImage' to visualize the HOG representation of the image\n",
    "    # if needed\n",
    "    hogImage = exposure.rescale_intensity(hogImage, out_range=(0, 255))\n",
    "    hogImage = hogImage.astype(\"uint8\")\n",
    "    \n",
    "    # Face center coordinates are obtaine as the mean x and y values\n",
    "    # of all the detected landmarks coordinates\n",
    "    faceCenter = np.mean(imageList[i].landmarks,axis=0)\n",
    "    \n",
    "    # Variables to keep the Distances of the landmarks from the face center,\n",
    "    # and angles of the (center --->landmark) vectors\n",
    "    landmarkDistance = []\n",
    "    landmarkNormDistance = []\n",
    "    landmarkAngle = []\n",
    "    \n",
    "    # Maximum and minimum x and y coordinate are extracted from the landmarks\n",
    "    # coordinates. These are used to calculate normalized distances\n",
    "    # distance = ((x_center - x)^2 + (y_center - y)^2)^0.5\n",
    "    # maxDistance = ((xmax - xmin)^2 + (ymax - ymin)^2)^0.5\n",
    "    # normDistance = distance/maxDistance\n",
    "    xmax = imageList[i].landmarks[0][0]\n",
    "    xmin = imageList[i].landmarks[0][0]\n",
    "    ymax = imageList[i].landmarks[0][1]\n",
    "    ymin = imageList[i].landmarks[0][1]\n",
    "    for l in range(0, len(imageList[i].landmarks)):\n",
    "        if (imageList[i].landmarks[l][0] > xmax):\n",
    "            xmax = imageList[i].landmarks[l][0]\n",
    "        if (imageList[i].landmarks[l][0] < xmin):\n",
    "            xmin = imageList[i].landmarks[l][0]\n",
    "        if (imageList[i].landmarks[l][1] > ymax):\n",
    "            ymax = imageList[i].landmarks[l][1]\n",
    "        if (imageList[i].landmarks[l][1] < ymin):\n",
    "            ymin = imageList[i].landmarks[l][1]\n",
    "    maxDist = math.sqrt(pow(xmax - xmin, 2) + pow(ymax - ymin, 2))\n",
    "    \n",
    "    #calculation of the landmark (normalized) distances from the face center and the normalized angles\n",
    "    for j in range (0, len(imageList[i].landmarks)):\n",
    "        landmarkDistance.append((math.sqrt(pow(faceCenter[0] - imageList[i].landmarks[j][0], 2) \n",
    "                                           + pow(faceCenter[1] - imageList[i].landmarks[j][1], 2))))\n",
    "        \n",
    "        landmarkNormDistance.append((math.sqrt(pow(faceCenter[0] - imageList[i].landmarks[j][0], 2) \n",
    "                                           + pow(faceCenter[1] - imageList[i].landmarks[j][1], 2)))/maxDist)\n",
    "        \n",
    "        landmarkAngle.append(((math.atan2(faceCenter[1] - imageList[i].landmarks[j][1],\n",
    "                                        faceCenter[0] - imageList[i].landmarks[j][0])*360)/(2*math.pi) + 180)/360)\n",
    "    #Image to process objects are created and appended to the list\n",
    "    imageToProcessList.append(ImageToProcess(imageList[i],\n",
    "                                             hog,hogImage,\n",
    "                                             faceCenter,\n",
    "                                             landmarkDistance,\n",
    "                                             landmarkNormDistance,\n",
    "                                             landmarkAngle))\n",
    "print(\"done\")"
   ]
  },
  {
   "cell_type": "markdown",
   "metadata": {},
   "source": [
    "# Creation of the training/testing data\n",
    "\n",
    "The training and the tasting data are created by random split\n",
    "of the 'imageToProcessList'. The training data consists of the\n",
    "75% of the 'imageToProcessList' objects. The random split is\n",
    "performed by the initial shuffle of the objects in the list\n",
    "and then the division of data between training and testing.\n",
    "The training images are saved to the 'trainingList',\n",
    "while the test images to the 'testList'"
   ]
  },
  {
   "cell_type": "code",
   "execution_count": 14,
   "metadata": {},
   "outputs": [],
   "source": [
    "#Randomized shuffle of the imageToProcessList to create a random mix of training and testing datasets \n",
    "shuffle(imageToProcessList)"
   ]
  },
  {
   "cell_type": "code",
   "execution_count": 17,
   "metadata": {},
   "outputs": [
    {
     "name": "stdout",
     "output_type": "stream",
     "text": [
      "Total images =  4349\n",
      "Training images =  3260\n",
      "Testing images =  1089\n"
     ]
    }
   ],
   "source": [
    "trainingPart = 0.75\n",
    "trainingList = imageToProcessList[0:int(trainingPart*np.size(imageToProcessList)) - 1]\n",
    "testList = imageToProcessList[int(trainingPart*np.size(imageToProcessList)) - 1 :]\n",
    "print('Total images = ',np.size(imageToProcessList))\n",
    "print('Training images = ',np.size(trainingList))\n",
    "print('Testing images = ',np.size(testList))"
   ]
  },
  {
   "cell_type": "markdown",
   "metadata": {},
   "source": [
    "In the following code block, all the features/labels of the images\n",
    "are extracted to separate variables. This is done to ease\n",
    "the data management by providing each feature/label standard\n",
    "name in the following structure: (train/test) _ (fearute/label name).\n",
    "\n",
    "print() functions are used to confirm that the data is extracted\n",
    "correctly, by having an original shape"
   ]
  },
  {
   "cell_type": "code",
   "execution_count": 18,
   "metadata": {},
   "outputs": [
    {
     "name": "stdout",
     "output_type": "stream",
     "text": [
      "(3260, 256, 256, 3)\n",
      "(3260, 256, 256)\n",
      "(3260, 68, 2)\n",
      "(3260, 1764)\n",
      "(3260, 68)\n",
      "(3260, 68)\n",
      "(3260,)\n",
      "(3260,)\n",
      "(3260,)\n",
      "(3260,)\n",
      "(3260,)\n",
      "\n",
      "\n",
      "\n",
      "(1089, 256, 256, 3)\n",
      "(1089, 256, 256)\n",
      "(1089, 68, 2)\n",
      "(1089, 1764)\n",
      "(1089, 68)\n",
      "(1089, 68)\n",
      "(1089,)\n",
      "(1089,)\n",
      "(1089,)\n",
      "(1089,)\n",
      "(1089,)\n"
     ]
    }
   ],
   "source": [
    "#array of RGB values of the imamges 256x256x3\n",
    "train_img = [o.imageInfo.img for o in trainingList]\n",
    "print(np.shape(train_img))\n",
    "\n",
    "#grayscale of the image 256x256\n",
    "train_gray = [o.imageInfo.gray for o in trainingList]\n",
    "print(np.shape(train_gray))\n",
    "\n",
    "#coordinates of the landmark points 68x2\n",
    "train_landmarks = [o.imageInfo.landmarks for o in trainingList]\n",
    "print(np.shape(train_landmarks))\n",
    "\n",
    "#array of the HOG values of the images (size depends on the parameters set in the\n",
    "#hog image creation in the imageToProcessList creation block)\n",
    "train_hog = [o.hog for o in trainingList]\n",
    "print(np.shape(train_hog))\n",
    "\n",
    "#array of normalized distances 68\n",
    "train_NormDist = [o.landmarkNormDistance for o in trainingList]\n",
    "print(np.shape(train_NormDist))\n",
    "\n",
    "#array of normlized angles 68\n",
    "train_Angle = [o.landmarkAngle for o in trainingList]\n",
    "print(np.shape(train_Angle))\n",
    "\n",
    "#labels of smiling\n",
    "train_smiling = [o.imageInfo.smiling for o in trainingList]\n",
    "print(np.shape(train_smiling))\n",
    "\n",
    "#labels of eyeglasses\n",
    "train_eyeglasses = [o.imageInfo.eyeglasses for o in trainingList]\n",
    "print(np.shape(train_eyeglasses))\n",
    "\n",
    "#lables of haircolor\n",
    "train_hair_color = [o.imageInfo.hair_color for o in trainingList]\n",
    "print(np.shape(train_hair_color))\n",
    "\n",
    "#lablels of age\n",
    "train_young = [o.imageInfo.young for o in trainingList]\n",
    "print(np.shape(train_young))\n",
    "\n",
    "#lablels of human\n",
    "train_human = [o.imageInfo.human for o in trainingList]\n",
    "print(np.shape(train_human))\n",
    "\n",
    "print()\n",
    "print()\n",
    "print()\n",
    "\n",
    "test_img = [o.imageInfo.img for o in testList]\n",
    "print(np.shape(test_img))\n",
    "\n",
    "test_gray = [o.imageInfo.gray for o in testList]\n",
    "print(np.shape(test_gray))\n",
    "\n",
    "test_landmarks = [o.imageInfo.landmarks for o in testList]\n",
    "print(np.shape(test_landmarks))\n",
    "\n",
    "test_hog = [o.hog for o in testList]\n",
    "print(np.shape(test_hog))\n",
    "\n",
    "test_NormDist = [o.landmarkNormDistance for o in testList]\n",
    "print(np.shape(test_NormDist))\n",
    "\n",
    "test_Angle = [o.landmarkAngle for o in testList]\n",
    "print(np.shape(test_Angle))\n",
    "\n",
    "test_smiling = [o.imageInfo.smiling for o in testList]\n",
    "print(np.shape(test_smiling))\n",
    "\n",
    "test_eyeglasses = [o.imageInfo.eyeglasses for o in testList]\n",
    "print(np.shape(test_eyeglasses))\n",
    "\n",
    "test_hair_color = [o.imageInfo.hair_color for o in testList]\n",
    "print(np.shape(test_hair_color))\n",
    "\n",
    "test_young = [o.imageInfo.young for o in testList]\n",
    "print(np.shape(test_young))\n",
    "\n",
    "test_human = [o.imageInfo.human for o in testList]\n",
    "print(np.shape(test_human))"
   ]
  },
  {
   "cell_type": "markdown",
   "metadata": {},
   "source": [
    "This code block creates the additional image features,\n",
    "which is the unified Normalized Distances and Angles of the landmarks,\n",
    "and the unified Normalized Distances, Angles of the landmarks and the HOG array. All these features are stored in one array to be fed to the ML systems.\n",
    "\n",
    "concatenate() functions are used to allow variables to create a copy\n",
    "of the original data, to secure it from modification during\n",
    "the data processing.\n",
    "\n",
    "print() functions are used to confirm that the data is organized\n",
    "correctly, by having a correct shape (sum of shapes of the original data elements)"
   ]
  },
  {
   "cell_type": "code",
   "execution_count": 19,
   "metadata": {},
   "outputs": [
    {
     "name": "stdout",
     "output_type": "stream",
     "text": [
      "(3260, 68)\n",
      "(3260, 68)\n",
      "(3260, 136)\n",
      "(3260, 1900)\n",
      "(1089, 68)\n",
      "(1089, 68)\n",
      "(1089, 136)\n",
      "(1089, 1900)\n"
     ]
    }
   ],
   "source": [
    "train_NormDist_Angle_hog = []    # Array containing normalized landmark distances + angles + HOG\n",
    "train_NormDist_Angle = []        # Array containing normalized landmark distances + angles\n",
    "for i in range (0, len(train_NormDist)):\n",
    "    train_NormDist_Angle.append(np.concatenate((train_NormDist[i], train_Angle[i]), axis = 0))\n",
    "    train_NormDist_Angle_hog.append(np.concatenate((train_NormDist_Angle[i], train_hog[i]), axis = 0))\n",
    "print(np.shape(train_NormDist))\n",
    "print(np.shape(train_Angle))\n",
    "print(np.shape(train_NormDist_Angle))\n",
    "print(np.shape(train_NormDist_Angle_hog))\n",
    "\n",
    "test_NormDist_Angle_hog = []\n",
    "test_NormDist_Angle = []\n",
    "for i in range (0, len(test_NormDist)):\n",
    "    test_NormDist_Angle.append(np.concatenate((test_NormDist[i], test_Angle[i]), axis = 0))\n",
    "    test_NormDist_Angle_hog.append(np.concatenate((test_NormDist_Angle[i], test_hog[i]), axis = 0))\n",
    "print(np.shape(test_NormDist))\n",
    "print(np.shape(test_Angle))\n",
    "print(np.shape(test_NormDist_Angle))\n",
    "print(np.shape(test_NormDist_Angle_hog))\n"
   ]
  },
  {
   "cell_type": "markdown",
   "metadata": {},
   "source": [
    "The following code block creates 1D arrays of the original\n",
    "multi-dimentional features. These include the landmarks coordinates (2D),\n",
    "and the grayscale arrays of the images (2D).\n",
    "\n",
    "flatten() and reshape() functions provide the similar procedure. However,\n",
    "these functions create 1D array in the different ways. Reshape() function,\n",
    "initially, gets all values column by column, while\n",
    "flatten() gets all the data by row by row.\n",
    "\n",
    "During the experiments, it was observed that the reshaped data\n",
    "is processed faster that the flattened for these features.\n",
    "Therefore, the reshaped data is used in this code."
   ]
  },
  {
   "cell_type": "code",
   "execution_count": 20,
   "metadata": {},
   "outputs": [
    {
     "name": "stdout",
     "output_type": "stream",
     "text": [
      "(3260, 68, 2)\n",
      "(3260, 136)\n",
      "(3260, 136)\n",
      "(1089, 68, 2)\n",
      "(1089, 136)\n",
      "(1089, 136)\n",
      "(3260, 256, 256)\n",
      "(3260, 65536)\n",
      "(3260, 65536)\n",
      "(1089, 256, 256)\n",
      "(1089, 65536)\n",
      "(1089, 65536)\n"
     ]
    }
   ],
   "source": [
    "train_landmarks_flattened = []\n",
    "train_landmarks_reshape = []\n",
    "for i in range (0, len(train_landmarks)):\n",
    "    train_landmarks_flattened.append(train_landmarks[i].flatten())\n",
    "    train_landmarks_reshape.append(train_landmarks[i])\n",
    "    train_landmarks_reshape[i]=np.reshape(train_landmarks_reshape[i], 136, order='F') # 136 elements in the 1D array (68*2)\n",
    "print(np.shape(train_landmarks))\n",
    "print(np.shape(train_landmarks_flattened))\n",
    "print(np.shape(train_landmarks_reshape))\n",
    "\n",
    "test_landmarks_flattened = []\n",
    "test_landmarks_reshape = []\n",
    "for i in range (0, len(test_landmarks)):\n",
    "    test_landmarks_flattened.append(test_landmarks[i].flatten())\n",
    "    test_landmarks_reshape.append(test_landmarks[i])\n",
    "    test_landmarks_reshape[i]=np.reshape(test_landmarks_reshape[i], 136, order='F')\n",
    "print(np.shape(test_landmarks))\n",
    "print(np.shape(test_landmarks_flattened))\n",
    "print(np.shape(test_landmarks_reshape))\n",
    "\n",
    "train_gray_flattened = []\n",
    "train_gray_reshape = []\n",
    "for i in range (0, len(train_gray)):\n",
    "    train_gray_flattened.append(train_gray[i].flatten())\n",
    "    train_gray_reshape.append(train_gray[i])\n",
    "    train_gray_reshape[i]=np.reshape(train_gray_reshape[i], 65536, order='F')  # 65536 elements in the 1D array (256*256)\n",
    "print(np.shape(train_gray))\n",
    "print(np.shape(train_gray_flattened))\n",
    "print(np.shape(train_gray_reshape))\n",
    "\n",
    "test_gray_flattened = []\n",
    "test_gray_reshape = []\n",
    "for i in range (0, len(test_gray)):\n",
    "    test_gray_flattened.append(test_gray[i].flatten())\n",
    "    test_gray_reshape.append(test_gray[i])\n",
    "    test_gray_reshape[i]=np.reshape(test_gray_reshape[i], 65536, order='F')\n",
    "print(np.shape(test_gray))\n",
    "print(np.shape(test_gray_flattened))\n",
    "print(np.shape(test_gray_reshape))\n"
   ]
  },
  {
   "cell_type": "markdown",
   "metadata": {},
   "source": [
    "# ML Models creation. Definition of the automatic hyperparameters tuning functions\n",
    "\n",
    "The following part of the code examines different models for the tasks. For each task there is a number of SVM \n",
    "classifier models, which are trained to work with different features, and one MLP (Multi-layer Perceptron) \n",
    "classifier model, which evaluates the RGB values of the images with lowered resolutions.\n",
    "\n",
    "For each task, there are several models implemented to show their performance, but only one model per task\n",
    "is used for final tasks.\n",
    "\n",
    "The models, which have very long training time are not included, as there are faster and accurate alternatives\n",
    "included.\n",
    "\n",
    "The range of possible hyperparameters value ranges for the SVM classifiers are chosen experimentally. The\n",
    "value ranges for the tuning were obtained by the creation of the testing classifier, which had a requested set\n",
    "of hyperparameters. The value ranges for which the model showed the highes accuracy were used for \n",
    "automatic tuning. This process can be performed without prior testings, but by the application of \n",
    "different hyperparameter'svalues. However, prior testing was done to reduce the time consumption of the \n",
    "hyperparameters tuning functions for these tasks.\n",
    "\n",
    "Every model is created in the following way:\n",
    "\n",
    "   -Firstly, the set of best hypeparameters is chosen for each model by the call of the automatic\n",
    "     hyperparameters tuning functions. These functions also shows the average k-fold cross validation\n",
    "     accuracy for each set of hyperparameters.\n",
    "     \n",
    "   -Secondly, the hyperparameters, which led to the highest accuracy a used for the final model creation\n",
    "   \n",
    "   -Thirdly, the models are fitted with a training data and are checked with the testing data.\n",
    "     The confusion matrix are implemented for each model to evaluate a quality of the classifiers,\n",
    "     this is an important step as there are several high accuracies for bad models."
   ]
  },
  {
   "cell_type": "markdown",
   "metadata": {},
   "source": [
    "The following code blocks set automatic hyperparameters tuning functions for the SVM classifiers with\n",
    "linear kernel (C-parameter (Penalty) is tuned) and with rbf kernel(C and gamma-parameters (Kernel coefficient)).\n",
    "The hyperparameter tuning for the MLP classifier is based on testing different number of layers and nodes\n",
    "per layer. However, the maximum number of layers is 3 due to the increasing computational requirements for the\n",
    "number of layers. The maximum number of layers of 3 was chosen experimentally, as the models which choose this maximum number of layers have a high accuracy. The maximum number of iteration of 100 was chosen experimentally, to have a balance between the computational speed and final accuracy. Some of the MLP models are not achieving convergence with this number of iterations. However, they still posess high level of accuracy."
   ]
  },
  {
   "cell_type": "code",
   "execution_count": 21,
   "metadata": {},
   "outputs": [],
   "source": [
    "def svc_lin_params (X, y, C_val): # This function is used to get the best C value for a given dataset of X and y.\n",
    "                                  # For the linear SVM classifier. \n",
    "    C = C_val\n",
    "    mean_score = 0\n",
    "    best_C = C[0]\n",
    "    for c in C:\n",
    "        scores = cross_val_score(svm.SVC(kernel = 'linear', C = c), X, y, cv=5) # Stores cross validation scores\n",
    "        mean = np.mean(scores)    # The best C value results in the highest average accuracy of cross-validation\n",
    "        print(\"Cross-validation mean score for linear SVC with C = \", c, \" is \", mean)\n",
    "        if (mean > mean_score):\n",
    "            best_C = c\n",
    "            mean_score = mean\n",
    "    print(best_C)\n",
    "    print(mean_score)\n",
    "    return best_C"
   ]
  },
  {
   "cell_type": "code",
   "execution_count": 22,
   "metadata": {},
   "outputs": [],
   "source": [
    "def svc_rbf_params (X, y, C_val, gamma_val): # This function outputs the best pair of C and gamma values for\n",
    "                                             # a given dataset of X and y. For the rbf SVM classifier.\n",
    "    C = C_val\n",
    "    gamma = gamma_val\n",
    "    mean_score = 0\n",
    "    best_C = C[0]\n",
    "    best_gamma = gamma[0]\n",
    "    for c in C:\n",
    "        for g in gamma:\n",
    "            scores = cross_val_score(svm.SVC(kernel = 'rbf', C = c, gamma = g), X, y, cv=5)\n",
    "            mean = np.mean(scores)          # The best C and gamma pair results in the highest average accuracy of \n",
    "                                            # the cross-validation\n",
    "            print(\"Cross-validation mean score for rbf SVC with C = \", c,\" and gamma = \", g, \" is \", mean)\n",
    "            if (mean > mean_score):\n",
    "                best_C = c\n",
    "                best_gamma = g\n",
    "                mean_score = mean\n",
    "    print(best_C)\n",
    "    print(best_gamma)\n",
    "    print(mean_score)\n",
    "    return best_C, best_gamma"
   ]
  },
  {
   "cell_type": "code",
   "execution_count": 23,
   "metadata": {},
   "outputs": [],
   "source": [
    "def mlp_params (n_nodes, X, y):  # This function outputs the best number of nodes per layer with the maximum 3 layers\n",
    "    nodes = n_nodes\n",
    "    best_nodes = nodes[0]\n",
    "    best_layers = 0\n",
    "    mean_score = 0\n",
    "    layers = 1\n",
    "    for n in nodes:               # The calculation of the best parameters are performed in 3 loops with different number of layers\n",
    "                                  # Due to large training dataset, 'adam' solver is used as it posess allows a higher computationl\n",
    "                                  # speed with a high accuracy for the large datasets.\n",
    "        scores = cross_val_score(MLPClassifier(max_iter = 100, activation = 'relu',\n",
    "                                               solver = 'adam', hidden_layer_sizes = n, \n",
    "                                               alpha = 0.0001,learning_rate = 'adaptive'), X, y, cv=3)\n",
    "        mean = np.mean(scores)\n",
    "        print(\"Cross-validation mean score for MLP N(layers) = \", 1,\" N(nodes) = \", n, \" and adam activation function is \", mean)\n",
    "        if (mean > mean_score):\n",
    "            best_nodes = n\n",
    "            best_layers = 1\n",
    "            mean_score = mean\n",
    "    for n in nodes:\n",
    "        scores = cross_val_score(MLPClassifier(max_iter = 100, activation = 'relu',\n",
    "                                               solver = 'adam', hidden_layer_sizes = (n, n), \n",
    "                                               alpha = 0.0001,learning_rate = 'adaptive'), X, y, cv=3)\n",
    "        mean = np.mean(scores)\n",
    "        print(\"Cross-validation mean score for MLP N(layers) = \", 2,\" N(nodes) = \", n, \" and adam activation function is \", mean)\n",
    "        if (mean > mean_score):\n",
    "            best_nodes = (n,n)\n",
    "            best_layers = 2\n",
    "            mean_score = mean\n",
    "    for n in nodes:\n",
    "        scores = cross_val_score(MLPClassifier(max_iter = 100, activation = 'relu',\n",
    "                                               solver = 'adam', hidden_layer_sizes = (n, n, n), \n",
    "                                               alpha = 0.0001,learning_rate = 'adaptive'), X, y, cv=3)\n",
    "        mean = np.mean(scores)\n",
    "        print(\"Cross-validation mean score for MLP N(layers) = \", 3,\" N(nodes) = \", n, \" and adam activation function is \", mean)\n",
    "        if (mean > mean_score):\n",
    "            best_nodes = (n,n,n)\n",
    "            best_layers = 3\n",
    "            mean_score = mean\n",
    "    print(best_nodes)\n",
    "    print(best_layers)\n",
    "    print(mean_score)\n",
    "    return best_nodes"
   ]
  },
  {
   "cell_type": "markdown",
   "metadata": {},
   "source": [
    "The following code blocks define the image reshape function, which change the resolution of the 'original' image\n",
    "to 'width' x 'height', creates 1D array from the resulted image and normilizes it."
   ]
  },
  {
   "cell_type": "code",
   "execution_count": 24,
   "metadata": {},
   "outputs": [],
   "source": [
    "def img_reshape (width, height, original):\n",
    "    img_lowRes = [] # Definition of an array, which contains the modified values from the original RGB image array\n",
    "    for img in original:\n",
    "        img_lowRes.append(img)\n",
    "    img_lowRes = [cv2.resize(o, (width, height)) for o in img_lowRes]\n",
    "    for i in range(len(img_lowRes)):\n",
    "        img_lowRes[i] = img_lowRes[i].flatten()/255\n",
    "    print(np.shape(img_lowRes))\n",
    "    return img_lowRes"
   ]
  },
  {
   "cell_type": "markdown",
   "metadata": {},
   "source": [
    "The following code block creates normilized 1D arrays of the RGB images with lower resolution from training and testing lists.\n",
    "These are used to train and test the MLP Classifiers. resolution of 28x28 was obtained experimentally, it leads to the high accuracies of the ML models and allows relatively high speed of training and hyperparameter tuning."
   ]
  },
  {
   "cell_type": "code",
   "execution_count": 25,
   "metadata": {},
   "outputs": [
    {
     "name": "stdout",
     "output_type": "stream",
     "text": [
      "(3260, 2352)\n",
      "(1089, 2352)\n"
     ]
    }
   ],
   "source": [
    "train_img_toProcess = img_reshape(28,28,train_img)\n",
    "test_img_toProcess = img_reshape(28,28,test_img)"
   ]
  },
  {
   "cell_type": "markdown",
   "metadata": {},
   "source": [
    "# Task 1\n",
    "\n",
    "In the following section, the smile detection is performed according to different features of the images\n",
    "and with the use of different kernels for SVC classifiers. MLP classifier was created for this task too.\n",
    "All classifiers are shown in this section.\n",
    "\n",
    "The variable names structurized in the following way: \n",
    "(parameter/classifier type) _ (task) _ (feature name)\n",
    "\n",
    "The most effective classifier is SVM rbf classifier with C = 3 and gamma = 0.3. It was trained on the\n",
    "NormDist_Angle_hog (normalized landmark distances + angles + hog) features. It gave the highest accuracy\n",
    "both for validation and testing with a good confusion matrix. The classifiers for other tasks were\n",
    "evaluated similarly.\n",
    "\n",
    "The model creation is performed by the automatic heperparameters tuning --> model definition --> model fitting --> model testing"
   ]
  },
  {
   "cell_type": "markdown",
   "metadata": {},
   "source": [
    "SVM Classifier with 'linear' kernel for the smiling detection according to the landmarks coordinates"
   ]
  },
  {
   "cell_type": "code",
   "execution_count": 59,
   "metadata": {
    "scrolled": true
   },
   "outputs": [
    {
     "name": "stdout",
     "output_type": "stream",
     "text": [
      "Cross-validation mean score for linear SVC with C =  0.001  is  0.915030674847\n",
      "Cross-validation mean score for linear SVC with C =  0.01  is  0.919325153374\n",
      "Cross-validation mean score for linear SVC with C =  0.1  is  0.916871165644\n",
      "Cross-validation mean score for linear SVC with C =  0.5  is  0.911349693252\n",
      "0.01\n",
      "0.919325153374\n"
     ]
    }
   ],
   "source": [
    "C_smile_lin_landmarks = svc_lin_params(np.asarray(train_landmarks_reshape),\n",
    "                                       np.asarray(train_smiling),\n",
    "                                       [0.001, 0.01, 0.1, 0.5])"
   ]
  },
  {
   "cell_type": "code",
   "execution_count": 61,
   "metadata": {},
   "outputs": [
    {
     "name": "stdout",
     "output_type": "stream",
     "text": [
      "The C coefficient used is:  0.01\n",
      "Final accuracy of the linear model for smile detection, with the landmarks features is:  0.914600550964\n",
      "The confusion matrix is\n",
      "[[171  46]\n",
      " [ 47 825]]\n"
     ]
    }
   ],
   "source": [
    "from sklearn.metrics import confusion_matrix\n",
    "print(\"The C coefficient used is: \", C_smile_lin_landmarks)\n",
    "\n",
    "svc_smile_lin_landmarks = svm.SVC(kernel = 'linear', C = C_smile_lin_landmarks)\n",
    "\n",
    "svc_smile_lin_landmarks.fit(np.asarray(train_landmarks_reshape), np.asarray(train_smiling))\n",
    "\n",
    "smile_pred = svc_smile_lin_landmarks.predict(np.asarray(test_landmarks_reshape))\n",
    "\n",
    "print(\"Final accuracy of the linear model for smile detection, with the landmarks features is: \",\n",
    "      svc_smile_lin_landmarks.score(np.asarray(test_landmarks_reshape),\n",
    "                                    np.asarray(test_smiling)))\n",
    "print(\"The confusion matrix is\")\n",
    "print(confusion_matrix( np.asarray(test_smiling), smile_pred))\n"
   ]
  },
  {
   "cell_type": "markdown",
   "metadata": {},
   "source": [
    "SVM Classifier with 'linear' kernel for the smiling detection according to the normalized landmark distances from the face center and normalized facecenter-landmark vectors angles to the x-axis"
   ]
  },
  {
   "cell_type": "code",
   "execution_count": 62,
   "metadata": {},
   "outputs": [
    {
     "name": "stdout",
     "output_type": "stream",
     "text": [
      "Cross-validation mean score for linear SVC with C =  0.1  is  0.783742331288\n",
      "Cross-validation mean score for linear SVC with C =  0.5  is  0.809202453988\n",
      "Cross-validation mean score for linear SVC with C =  1  is  0.862576687117\n",
      "Cross-validation mean score for linear SVC with C =  3  is  0.886809815951\n",
      "Cross-validation mean score for linear SVC with C =  7  is  0.897852760736\n",
      "Cross-validation mean score for linear SVC with C =  10  is  0.901533742331\n",
      "Cross-validation mean score for linear SVC with C =  15  is  0.907055214724\n",
      "15\n",
      "0.907055214724\n"
     ]
    }
   ],
   "source": [
    "C_smile_lin_NormDist_Angle = svc_lin_params(np.asarray(train_NormDist_Angle),\n",
    "                                            np.asarray(train_smiling),\n",
    "                                            [0.1, 0.5, 1, 3, 7, 10, 15])"
   ]
  },
  {
   "cell_type": "code",
   "execution_count": 65,
   "metadata": {},
   "outputs": [
    {
     "name": "stdout",
     "output_type": "stream",
     "text": [
      "The C coefficient used is:  15\n",
      "Final accuracy of the linear model for smile detection, with the landmarks features is:  0.908172635445\n",
      "The confusion matrix is\n",
      "[[168  49]\n",
      " [ 51 821]]\n"
     ]
    }
   ],
   "source": [
    "print(\"The C coefficient used is: \", C_smile_lin_NormDist_Angle)\n",
    "\n",
    "svc_smile_lin_NormDist_Angle = svm.SVC(kernel = 'linear', C = C_smile_lin_NormDist_Angle)\n",
    "\n",
    "svc_smile_lin_NormDist_Angle.fit(np.asarray(train_NormDist_Angle), np.asarray(train_smiling))\n",
    "\n",
    "smile_pred = svc_smile_lin_NormDist_Angle.predict(np.asarray(test_NormDist_Angle))\n",
    "\n",
    "print(\"Final accuracy of the linear model for smile detection, with the landmark normalized disntances and angles features is: \",\n",
    "      svc_smile_lin_NormDist_Angle.score(np.asarray(test_NormDist_Angle),\n",
    "                                         np.asarray(test_smiling)))\n",
    "print(\"The confusion matrix is\")\n",
    "print(confusion_matrix( np.asarray(test_smiling), smile_pred))"
   ]
  },
  {
   "cell_type": "markdown",
   "metadata": {},
   "source": [
    "SVM Classifier with 'rbf' kernel for the smiling detection according to the landmarks coordinates"
   ]
  },
  {
   "cell_type": "code",
   "execution_count": 69,
   "metadata": {},
   "outputs": [
    {
     "name": "stdout",
     "output_type": "stream",
     "text": [
      "Cross-validation mean score for rbf SVC with C =  1  and gamma =  0.1  is  0.785582822086\n",
      "Cross-validation mean score for rbf SVC with C =  1  and gamma =  0.5  is  0.852147239264\n",
      "Cross-validation mean score for rbf SVC with C =  1  and gamma =  1  is  0.866257668712\n",
      "Cross-validation mean score for rbf SVC with C =  1  and gamma =  3  is  0.890490797546\n",
      "Cross-validation mean score for rbf SVC with C =  1  and gamma =  5  is  0.899079754601\n",
      "Cross-validation mean score for rbf SVC with C =  3  and gamma =  0.1  is  0.818711656442\n",
      "Cross-validation mean score for rbf SVC with C =  3  and gamma =  0.5  is  0.885582822086\n",
      "Cross-validation mean score for rbf SVC with C =  3  and gamma =  1  is  0.898159509202\n",
      "Cross-validation mean score for rbf SVC with C =  3  and gamma =  3  is  0.907668711656\n",
      "Cross-validation mean score for rbf SVC with C =  3  and gamma =  5  is  0.914110429448\n",
      "Cross-validation mean score for rbf SVC with C =  5  and gamma =  0.1  is  0.863190184049\n",
      "Cross-validation mean score for rbf SVC with C =  5  and gamma =  0.5  is  0.896932515337\n",
      "Cross-validation mean score for rbf SVC with C =  5  and gamma =  1  is  0.906134969325\n",
      "Cross-validation mean score for rbf SVC with C =  5  and gamma =  3  is  0.914417177914\n",
      "Cross-validation mean score for rbf SVC with C =  5  and gamma =  5  is  0.914110429448\n",
      "Cross-validation mean score for rbf SVC with C =  7  and gamma =  0.1  is  0.873926380368\n",
      "Cross-validation mean score for rbf SVC with C =  7  and gamma =  0.5  is  0.902760736196\n",
      "Cross-validation mean score for rbf SVC with C =  7  and gamma =  1  is  0.909509202454\n",
      "Cross-validation mean score for rbf SVC with C =  7  and gamma =  3  is  0.915644171779\n",
      "Cross-validation mean score for rbf SVC with C =  7  and gamma =  5  is  0.91717791411\n",
      "Cross-validation mean score for rbf SVC with C =  10  and gamma =  0.1  is  0.881288343558\n",
      "Cross-validation mean score for rbf SVC with C =  10  and gamma =  0.5  is  0.906134969325\n",
      "Cross-validation mean score for rbf SVC with C =  10  and gamma =  1  is  0.912883435583\n",
      "Cross-validation mean score for rbf SVC with C =  10  and gamma =  3  is  0.917791411043\n",
      "Cross-validation mean score for rbf SVC with C =  10  and gamma =  5  is  0.919938650307\n",
      "Cross-validation mean score for rbf SVC with C =  15  and gamma =  0.1  is  0.888957055215\n",
      "Cross-validation mean score for rbf SVC with C =  15  and gamma =  0.5  is  0.909509202454\n",
      "Cross-validation mean score for rbf SVC with C =  15  and gamma =  1  is  0.916257668712\n",
      "Cross-validation mean score for rbf SVC with C =  15  and gamma =  3  is  0.920552147239\n",
      "Cross-validation mean score for rbf SVC with C =  15  and gamma =  5  is  0.920858895706\n",
      "15\n",
      "5\n",
      "0.920858895706\n"
     ]
    }
   ],
   "source": [
    "C_smile_rbf_NormDist_Angle, g_smile_rbf_NormDist_Angle = svc_rbf_params(np.asarray(train_NormDist_Angle),\n",
    "                                                                        np.asarray(train_smiling),\n",
    "                                                                        [1, 3, 5, 7, 10, 15],\n",
    "                                                                        [0.1, 0.5, 1, 3, 5])"
   ]
  },
  {
   "cell_type": "code",
   "execution_count": 95,
   "metadata": {},
   "outputs": [
    {
     "name": "stdout",
     "output_type": "stream",
     "text": [
      "The C coefficient used is:  15\n",
      "The gamma coefficient used is:  5\n",
      "Final accuracy of the rbf model for smile detection, with the landmark normalized disntances and angles features is:  0.91551882461\n",
      "The confusion matrix is\n",
      "[[169  48]\n",
      " [ 44 828]]\n"
     ]
    }
   ],
   "source": [
    "print(\"The C coefficient used is: \", C_smile_rbf_NormDist_Angle)\n",
    "print(\"The gamma coefficient used is: \", g_smile_rbf_NormDist_Angle)\n",
    "\n",
    "svc_smile_rbf_NormDist_Angle = svm.SVC(kernel = 'rbf', C = C_smile_rbf_NormDist_Angle, gamma = g_smile_rbf_NormDist_Angle)\n",
    "\n",
    "svc_smile_rbf_NormDist_Angle.fit(np.asarray(train_NormDist_Angle), np.asarray(train_smiling))\n",
    "\n",
    "smile_pred = svc_smile_rbf_NormDist_Angle.predict(np.asarray(test_NormDist_Angle))\n",
    "\n",
    "print(\"Final accuracy of the rbf model for smile detection, with the landmark normalized disntances and angles features is: \",\n",
    "      svc_smile_rbf_NormDist_Angle.score(np.asarray(test_NormDist_Angle),\n",
    "                                         np.asarray(test_smiling)))\n",
    "print(\"The confusion matrix is\")\n",
    "print(confusion_matrix( np.asarray(test_smiling), smile_pred))"
   ]
  },
  {
   "cell_type": "markdown",
   "metadata": {},
   "source": [
    "SVM Classifier with 'linear' kernel for the smiling detection according to the HOG image representation"
   ]
  },
  {
   "cell_type": "code",
   "execution_count": 80,
   "metadata": {},
   "outputs": [
    {
     "name": "stdout",
     "output_type": "stream",
     "text": [
      "Cross-validation mean score for linear SVC with C =  0.5  is  0.918098159509\n",
      "Cross-validation mean score for linear SVC with C =  0.7  is  0.919325153374\n",
      "Cross-validation mean score for linear SVC with C =  0.9  is  0.91963190184\n",
      "0.9\n",
      "0.91963190184\n"
     ]
    }
   ],
   "source": [
    "C_smile_lin_hog = svc_lin_params(np.asarray(train_hog),\n",
    "                                 np.asarray(train_smiling),\n",
    "                                 [0.5, 0.7, 0.9])"
   ]
  },
  {
   "cell_type": "code",
   "execution_count": 81,
   "metadata": {},
   "outputs": [
    {
     "name": "stdout",
     "output_type": "stream",
     "text": [
      "The C coefficient used is:  0.9\n",
      "Final accuracy of the linear model for smile detection, with the HOG features is:  0.926538108356\n",
      "The confusion matrix is\n",
      "[[179  38]\n",
      " [ 42 830]]\n"
     ]
    }
   ],
   "source": [
    "print(\"The C coefficient used is: \", C_smile_lin_hog)\n",
    "\n",
    "svc_smile_lin_hog = svm.SVC(kernel = 'linear', C = C_smile_lin_hog)\n",
    "\n",
    "svc_smile_lin_hog.fit(np.asarray(train_hog), np.asarray(train_smiling))\n",
    "\n",
    "smile_pred = svc_smile_lin_hog.predict(np.asarray(test_hog))\n",
    "\n",
    "print(\"Final accuracy of the linear model for smile detection, with the HOG features is: \",\n",
    "      svc_smile_lin_hog.score(np.asarray(test_hog),\n",
    "                              np.asarray(test_smiling)))\n",
    "print(\"The confusion matrix is\")\n",
    "print(confusion_matrix( np.asarray(test_smiling), smile_pred))"
   ]
  },
  {
   "cell_type": "markdown",
   "metadata": {},
   "source": [
    "SVM Classifier with 'rbf' kernel for the smiling detection according to the HOG image representation"
   ]
  },
  {
   "cell_type": "code",
   "execution_count": 82,
   "metadata": {},
   "outputs": [
    {
     "name": "stdout",
     "output_type": "stream",
     "text": [
      "Cross-validation mean score for rbf SVC with C =  1  and gamma =  0.05  is  0.898159509202\n",
      "Cross-validation mean score for rbf SVC with C =  1  and gamma =  0.1  is  0.907055214724\n",
      "Cross-validation mean score for rbf SVC with C =  1  and gamma =  0.3  is  0.915030674847\n",
      "Cross-validation mean score for rbf SVC with C =  1  and gamma =  0.4  is  0.916871165644\n",
      "Cross-validation mean score for rbf SVC with C =  3  and gamma =  0.05  is  0.911963190184\n",
      "Cross-validation mean score for rbf SVC with C =  3  and gamma =  0.1  is  0.920245398773\n",
      "Cross-validation mean score for rbf SVC with C =  3  and gamma =  0.3  is  0.921472392638\n",
      "Cross-validation mean score for rbf SVC with C =  3  and gamma =  0.4  is  0.919018404908\n",
      "Cross-validation mean score for rbf SVC with C =  5  and gamma =  0.05  is  0.919938650307\n",
      "Cross-validation mean score for rbf SVC with C =  5  and gamma =  0.1  is  0.921779141104\n",
      "Cross-validation mean score for rbf SVC with C =  5  and gamma =  0.3  is  0.918711656442\n",
      "Cross-validation mean score for rbf SVC with C =  5  and gamma =  0.4  is  0.916871165644\n",
      "Cross-validation mean score for rbf SVC with C =  6  and gamma =  0.05  is  0.919938650307\n",
      "Cross-validation mean score for rbf SVC with C =  6  and gamma =  0.1  is  0.920245398773\n",
      "Cross-validation mean score for rbf SVC with C =  6  and gamma =  0.3  is  0.917484662577\n",
      "Cross-validation mean score for rbf SVC with C =  6  and gamma =  0.4  is  0.915030674847\n",
      "5\n",
      "0.1\n",
      "0.921779141104\n"
     ]
    }
   ],
   "source": [
    "C_smile_rbf_hog, g_smile_hog = svc_rbf_params(np.asarray(train_hog),\n",
    "                                              np.asarray(train_smiling),\n",
    "                                              [1, 3, 5, 6],\n",
    "                                              [0.05, 0.1, 0.3, 0.4])"
   ]
  },
  {
   "cell_type": "code",
   "execution_count": 96,
   "metadata": {},
   "outputs": [
    {
     "name": "stdout",
     "output_type": "stream",
     "text": [
      "The C coefficient used is:  15\n",
      "The gamma coefficient used is:  0.1\n",
      "Final accuracy of the rbf model for smile detection, with the HOG features is:  0.924701561065\n",
      "The confusion matrix is\n",
      "[[177  40]\n",
      " [ 42 830]]\n"
     ]
    }
   ],
   "source": [
    "print(\"The C coefficient used is: \", C_smile_rbf_NormDist_Angle)\n",
    "print(\"The gamma coefficient used is: \", g_smile_hog)\n",
    "\n",
    "svc_smile_rbf_hog = svm.SVC(kernel = 'rbf', C = C_smile_rbf_hog, gamma = g_smile_hog)\n",
    "\n",
    "svc_smile_rbf_hog.fit(np.asarray(train_hog), np.asarray(train_smiling))\n",
    "\n",
    "smile_pred = svc_smile_rbf_hog.predict(np.asarray(test_hog))\n",
    "\n",
    "print(\"Final accuracy of the rbf model for smile detection, with the HOG features is: \",\n",
    "      svc_smile_rbf_hog.score(np.asarray(test_hog),\n",
    "                              np.asarray(test_smiling)))\n",
    "print(\"The confusion matrix is\")\n",
    "print(confusion_matrix( np.asarray(test_smiling), smile_pred))"
   ]
  },
  {
   "cell_type": "markdown",
   "metadata": {},
   "source": [
    "SVM Classifier with 'linear' kernel for the smiling detection according to the normalized landmark distances from the face center and normalized facecenter-landmark vectors angles to the x-axis and HOG image representation"
   ]
  },
  {
   "cell_type": "code",
   "execution_count": 85,
   "metadata": {},
   "outputs": [
    {
     "name": "stdout",
     "output_type": "stream",
     "text": [
      "Cross-validation mean score for linear SVC with C =  0.5  is  0.941717791411\n",
      "Cross-validation mean score for linear SVC with C =  0.7  is  0.941411042945\n",
      "Cross-validation mean score for linear SVC with C =  0.9  is  0.941717791411\n",
      "0.5\n",
      "0.941717791411\n"
     ]
    }
   ],
   "source": [
    "C_smile_lin_NormDist_Angle_hog = svc_lin_params(np.asarray(train_NormDist_Angle_hog),\n",
    "                                                np.asarray(train_smiling),\n",
    "                                                [0.5, 0.7, 0.9])"
   ]
  },
  {
   "cell_type": "code",
   "execution_count": 94,
   "metadata": {},
   "outputs": [
    {
     "name": "stdout",
     "output_type": "stream",
     "text": [
      "The C coefficient used is:  0.5\n",
      "Final accuracy of the linear model for smile detection, with the landmark normalized distances, Angles and HOG features is:  0.939393939394\n",
      "The confusion matrix is\n",
      "[[188  29]\n",
      " [ 37 835]]\n"
     ]
    }
   ],
   "source": [
    "print(\"The C coefficient used is: \", C_smile_lin_NormDist_Angle_hog)\n",
    "\n",
    "svc_smile_lin_NormDist_Angle_hog = svm.SVC(kernel = 'linear', C = C_smile_lin_NormDist_Angle_hog)\n",
    "\n",
    "svc_smile_lin_NormDist_Angle_hog.fit(np.asarray(train_NormDist_Angle_hog), np.asarray(train_smiling))\n",
    "\n",
    "smile_pred = svc_smile_lin_NormDist_Angle_hog.predict(np.asarray(test_NormDist_Angle_hog))\n",
    "\n",
    "print(\"Final accuracy of the linear model for smile detection with the landmark normalized distances, Angles and HOG features is: \",\n",
    "      svc_smile_lin_NormDist_Angle_hog.score(np.asarray(test_NormDist_Angle_hog),\n",
    "                                             np.asarray(test_smiling)))\n",
    "print(\"The confusion matrix is\")\n",
    "print(confusion_matrix( np.asarray(test_smiling), smile_pred))"
   ]
  },
  {
   "cell_type": "markdown",
   "metadata": {},
   "source": [
    "SVM Classifier with 'rbf' kernel for the smiling detection according to the normalized landmark distances from the face center and normalized facecenter-landmark vectors angles to the x-axis and HOG image representation"
   ]
  },
  {
   "cell_type": "code",
   "execution_count": 26,
   "metadata": {},
   "outputs": [
    {
     "name": "stdout",
     "output_type": "stream",
     "text": [
      "Cross-validation mean score for rbf SVC with C =  1  and gamma =  0.05  is  0.922392558662\n",
      "Cross-validation mean score for rbf SVC with C =  1  and gamma =  0.1  is  0.932825781854\n",
      "Cross-validation mean score for rbf SVC with C =  1  and gamma =  0.3  is  0.939570967059\n",
      "Cross-validation mean score for rbf SVC with C =  1  and gamma =  0.4  is  0.939876773134\n",
      "Cross-validation mean score for rbf SVC with C =  3  and gamma =  0.05  is  0.936503008315\n",
      "Cross-validation mean score for rbf SVC with C =  3  and gamma =  0.1  is  0.94202448215\n",
      "Cross-validation mean score for rbf SVC with C =  3  and gamma =  0.3  is  0.947239204634\n",
      "Cross-validation mean score for rbf SVC with C =  3  and gamma =  0.4  is  0.947239674386\n",
      "Cross-validation mean score for rbf SVC with C =  5  and gamma =  0.05  is  0.941106589844\n",
      "Cross-validation mean score for rbf SVC with C =  5  and gamma =  0.1  is  0.944785689543\n",
      "Cross-validation mean score for rbf SVC with C =  5  and gamma =  0.3  is  0.948466672581\n",
      "Cross-validation mean score for rbf SVC with C =  5  and gamma =  0.4  is  0.945707815395\n",
      "Cross-validation mean score for rbf SVC with C =  6  and gamma =  0.05  is  0.942025421656\n",
      "Cross-validation mean score for rbf SVC with C =  6  and gamma =  0.1  is  0.946320372822\n",
      "Cross-validation mean score for rbf SVC with C =  6  and gamma =  0.3  is  0.948467612086\n",
      "Cross-validation mean score for rbf SVC with C =  6  and gamma =  0.4  is  0.944787569996\n",
      "6\n",
      "0.3\n",
      "0.948467612086\n"
     ]
    }
   ],
   "source": [
    "C_smile_rbf_NormDist_Angle_hog, g_smile_NormDist_Angle_hog = svc_rbf_params(np.asarray(train_NormDist_Angle_hog),\n",
    "                                                                            np.asarray(train_smiling),\n",
    "                                                                            [1, 3, 5, 6],\n",
    "                                                                            [0.05, 0.1, 0.3, 0.4])"
   ]
  },
  {
   "cell_type": "code",
   "execution_count": 27,
   "metadata": {},
   "outputs": [
    {
     "name": "stdout",
     "output_type": "stream",
     "text": [
      "The C coefficient used is:  6\n",
      "The gamma coefficient used is:  0.3\n",
      "Final accuracy of the rbf model for smile detection with the landmark normalized distances, Angles and HOG features is:  0.937557392103\n",
      "The confusion matrix is\n",
      "[[198  35]\n",
      " [ 33 823]]\n"
     ]
    }
   ],
   "source": [
    "print(\"The C coefficient used is: \", C_smile_rbf_NormDist_Angle_hog)\n",
    "print(\"The gamma coefficient used is: \", g_smile_NormDist_Angle_hog)\n",
    "\n",
    "svc_smile_rbf_NormDist_Angle_hog = svm.SVC(kernel = 'rbf', C = C_smile_rbf_NormDist_Angle_hog,\n",
    "                                           gamma = g_smile_NormDist_Angle_hog)\n",
    "svc_smile_rbf_NormDist_Angle_hog_plot = svm.SVC(kernel = 'rbf', C = C_smile_rbf_NormDist_Angle_hog,\n",
    "                                           gamma = g_smile_NormDist_Angle_hog)\n",
    "\n",
    "svc_smile_rbf_NormDist_Angle_hog.fit(np.asarray(train_NormDist_Angle_hog), np.asarray(train_smiling))\n",
    "\n",
    "smile_pred = svc_smile_rbf_NormDist_Angle_hog.predict(np.asarray(test_NormDist_Angle_hog))\n",
    "\n",
    "print(\"Final accuracy of the rbf model for smile detection with the landmark normalized distances, Angles and HOG features is: \",\n",
    "      svc_smile_rbf_NormDist_Angle_hog.score(np.asarray(test_NormDist_Angle_hog),\n",
    "                                             np.asarray(test_smiling)))\n",
    "print(\"The confusion matrix is\")\n",
    "print(confusion_matrix( np.asarray(test_smiling), smile_pred))"
   ]
  },
  {
   "cell_type": "markdown",
   "metadata": {},
   "source": [
    "Creation of the csv file with the smiling prediction results for the testing dataset"
   ]
  },
  {
   "cell_type": "code",
   "execution_count": 28,
   "metadata": {},
   "outputs": [],
   "source": [
    "with open('task_1.csv', 'w') as csvfile:\n",
    "    filewriter = csv.writer(csvfile, delimiter=',',\n",
    "                            quotechar='|', quoting=csv.QUOTE_MINIMAL)\n",
    "    filewriter.writerow([svc_smile_rbf_NormDist_Angle_hog.score(np.asarray(test_NormDist_Angle_hog), np.asarray(test_smiling))])\n",
    "    #filewriter.writerow(['', ''])\n",
    "    for i in range(0, len(smile_pred)):\n",
    "        filewriter.writerow([testList[i].imageInfo.image[42:], smile_pred[i]])\n",
    "        #filewriter.writerow(['', ''])"
   ]
  },
  {
   "cell_type": "markdown",
   "metadata": {},
   "source": [
    "Plot of the learning curve, the model, which was used is defined similarly to the final tested mode. However, this extra model was used to plot the Learning cirve."
   ]
  },
  {
   "cell_type": "code",
   "execution_count": 30,
   "metadata": {},
   "outputs": [
    {
     "data": {
      "image/png": "[encoded data removed]",
      "text/plain": [
       "<Figure size 432x288 with 1 Axes>"
      ]
     },
     "metadata": {
      "needs_background": "light"
     },
     "output_type": "display_data"
    }
   ],
   "source": [
    "smile_plot = plot_learning_curve(svc_smile_rbf_NormDist_Angle_hog_plot, 'Task 1 Learning Curve',\n",
    "                                 np.asarray(train_NormDist_Angle_hog), np.asarray(train_smiling),\n",
    "                                 ylim=None, cv=5,\n",
    "                                 n_jobs=None, train_sizes=np.linspace(.1, 1.0, 5))"
   ]
  },
  {
   "cell_type": "markdown",
   "metadata": {},
   "source": [
    "MLP classifier for smiling recognition"
   ]
  },
  {
   "cell_type": "code",
   "execution_count": null,
   "metadata": {},
   "outputs": [],
   "source": [
    "n_smile = mlp_params([100, 200, 300], np.asarray(train_img_toProcess), np.asarray(train_smiling))"
   ]
  },
  {
   "cell_type": "code",
   "execution_count": 32,
   "metadata": {},
   "outputs": [],
   "source": [
    "mlp_smile = MLPClassifier(hidden_layer_sizes = n_smile,\n",
    "                    max_iter = 100,\n",
    "                    activation = 'relu',\n",
    "                    solver = 'adam',\n",
    "                    alpha = 0.0001,\n",
    "                    learning_rate = 'adaptive')"
   ]
  },
  {
   "cell_type": "code",
   "execution_count": 33,
   "metadata": {},
   "outputs": [
    {
     "name": "stdout",
     "output_type": "stream",
     "text": [
      "done\n"
     ]
    },
    {
     "name": "stderr",
     "output_type": "stream",
     "text": [
      "C:\\Users\\ching\\Anaconda3\\envs\\Assignment_1\\lib\\site-packages\\sklearn\\neural_network\\multilayer_perceptron.py:562: ConvergenceWarning: Stochastic Optimizer: Maximum iterations (100) reached and the optimization hasn't converged yet.\n",
      "  % self.max_iter, ConvergenceWarning)\n"
     ]
    }
   ],
   "source": [
    "mlp_smile.fit(np.asarray(train_img_toProcess), np.asarray(train_smiling))\n",
    "print('done')"
   ]
  },
  {
   "cell_type": "code",
   "execution_count": 34,
   "metadata": {},
   "outputs": [
    {
     "name": "stdout",
     "output_type": "stream",
     "text": [
      "Final accuracy of the MLP model for smile detection is: 0.887970615243\n",
      "The confusion matrix is\n",
      "[[159  74]\n",
      " [ 48 808]]\n"
     ]
    }
   ],
   "source": [
    "pred = mlp_smile.predict(np.asarray(test_img_toProcess))\n",
    "\n",
    "print(\"Final accuracy of the MLP model for smile detection is:\",\n",
    "mlp_smile.score(np.asarray(test_img_toProcess),\n",
    "                np.asarray(test_smiling)))\n",
    "print(\"The confusion matrix is\")\n",
    "print(confusion_matrix( np.asarray(test_smiling), pred))"
   ]
  },
  {
   "cell_type": "markdown",
   "metadata": {},
   "source": [
    "The same process is performed for all other tasks"
   ]
  },
  {
   "cell_type": "markdown",
   "metadata": {},
   "source": [
    "# Task 2\n",
    "The best model for age dection is MLP Classifier with 2 layers with 200 nodes in each"
   ]
  },
  {
   "cell_type": "code",
   "execution_count": 118,
   "metadata": {
    "scrolled": true
   },
   "outputs": [
    {
     "name": "stdout",
     "output_type": "stream",
     "text": [
      "Cross-validation mean score for linear SVC with C =  0.001  is  0.799693815814\n",
      "Cross-validation mean score for linear SVC with C =  0.01  is  0.799693815814\n",
      "Cross-validation mean score for linear SVC with C =  0.1  is  0.799693815814\n",
      "Cross-validation mean score for linear SVC with C =  0.5  is  0.799693815814\n",
      "0.001\n",
      "0.799693815814\n"
     ]
    }
   ],
   "source": [
    "C_young_lin_landmarks = svc_lin_params(np.asarray(train_landmarks_reshape),\n",
    "                                       np.asarray(train_young),\n",
    "                                       [0.001, 0.01, 0.1, 0.5])"
   ]
  },
  {
   "cell_type": "code",
   "execution_count": 119,
   "metadata": {},
   "outputs": [
    {
     "name": "stdout",
     "output_type": "stream",
     "text": [
      "The C coefficient used is:  0.001\n",
      "Final accuracy of the linear model for young detection, with the landmarks features is:  0.775941230487\n",
      "The confusion matrix is\n",
      "[[  0 244]\n",
      " [  0 845]]\n"
     ]
    }
   ],
   "source": [
    "from sklearn.metrics import confusion_matrix\n",
    "print(\"The C coefficient used is: \", C_young_lin_landmarks)\n",
    "\n",
    "svc_young_lin_landmarks = svm.SVC(kernel = 'linear', C = C_young_lin_landmarks)\n",
    "\n",
    "svc_young_lin_landmarks.fit(np.asarray(train_landmarks_reshape), np.asarray(train_young))\n",
    "\n",
    "pred = svc_young_lin_landmarks.predict(np.asarray(test_landmarks_reshape))\n",
    "\n",
    "print(\"Final accuracy of the linear model for young detection, with the landmarks features is: \",\n",
    "      svc_young_lin_landmarks.score(np.asarray(test_landmarks_reshape),\n",
    "                                      np.asarray(test_young)))\n",
    "print(\"The confusion matrix is\")\n",
    "print(confusion_matrix( np.asarray(test_young), pred))\n"
   ]
  },
  {
   "cell_type": "code",
   "execution_count": 120,
   "metadata": {},
   "outputs": [
    {
     "name": "stdout",
     "output_type": "stream",
     "text": [
      "Cross-validation mean score for linear SVC with C =  0.1  is  0.799693815814\n",
      "Cross-validation mean score for linear SVC with C =  0.5  is  0.799693815814\n",
      "Cross-validation mean score for linear SVC with C =  1  is  0.799693815814\n",
      "Cross-validation mean score for linear SVC with C =  3  is  0.799693815814\n",
      "Cross-validation mean score for linear SVC with C =  7  is  0.799693815814\n",
      "Cross-validation mean score for linear SVC with C =  10  is  0.799693815814\n",
      "Cross-validation mean score for linear SVC with C =  15  is  0.799693815814\n",
      "0.1\n",
      "0.799693815814\n"
     ]
    }
   ],
   "source": [
    "C_young_lin_NormDist_Angle = svc_lin_params(np.asarray(train_NormDist_Angle),\n",
    "                                              np.asarray(train_young),\n",
    "                                              [0.1, 0.5, 1, 3, 7, 10, 15])"
   ]
  },
  {
   "cell_type": "code",
   "execution_count": 121,
   "metadata": {},
   "outputs": [
    {
     "name": "stdout",
     "output_type": "stream",
     "text": [
      "The C coefficient used is:  0.1\n",
      "Final accuracy of the linear model for young detection, with the landmark normalized disntances and angles features is:  0.775941230487\n",
      "The confusion matrix is\n",
      "[[  0 244]\n",
      " [  0 845]]\n"
     ]
    }
   ],
   "source": [
    "print(\"The C coefficient used is: \", C_young_lin_NormDist_Angle)\n",
    "\n",
    "svc_young_lin_NormDist_Angle = svm.SVC(kernel = 'linear', C = C_young_lin_NormDist_Angle)\n",
    "\n",
    "svc_young_lin_NormDist_Angle.fit(np.asarray(train_NormDist_Angle), np.asarray(train_young))\n",
    "\n",
    "pred = svc_young_lin_NormDist_Angle.predict(np.asarray(test_NormDist_Angle))\n",
    "\n",
    "print(\"Final accuracy of the linear model for young detection, with the landmark normalized disntances and angles features is: \",\n",
    "      svc_young_lin_NormDist_Angle.score(np.asarray(test_NormDist_Angle),\n",
    "                                         np.asarray(test_young)))\n",
    "print(\"The confusion matrix is\")\n",
    "print(confusion_matrix( np.asarray(test_young), pred))"
   ]
  },
  {
   "cell_type": "code",
   "execution_count": 122,
   "metadata": {},
   "outputs": [
    {
     "name": "stdout",
     "output_type": "stream",
     "text": [
      "Cross-validation mean score for rbf SVC with C =  1  and gamma =  0.1  is  0.799693815814\n",
      "Cross-validation mean score for rbf SVC with C =  1  and gamma =  0.5  is  0.799693815814\n",
      "Cross-validation mean score for rbf SVC with C =  1  and gamma =  1  is  0.799693815814\n",
      "Cross-validation mean score for rbf SVC with C =  1  and gamma =  3  is  0.799693815814\n",
      "Cross-validation mean score for rbf SVC with C =  1  and gamma =  5  is  0.799693815814\n",
      "Cross-validation mean score for rbf SVC with C =  3  and gamma =  0.1  is  0.799693815814\n",
      "Cross-validation mean score for rbf SVC with C =  3  and gamma =  0.5  is  0.799693815814\n",
      "Cross-validation mean score for rbf SVC with C =  3  and gamma =  1  is  0.799693815814\n",
      "Cross-validation mean score for rbf SVC with C =  3  and gamma =  3  is  0.799694756763\n",
      "Cross-validation mean score for rbf SVC with C =  3  and gamma =  5  is  0.80000244762\n",
      "Cross-validation mean score for rbf SVC with C =  5  and gamma =  0.1  is  0.799693815814\n",
      "Cross-validation mean score for rbf SVC with C =  5  and gamma =  0.5  is  0.799693815814\n",
      "Cross-validation mean score for rbf SVC with C =  5  and gamma =  1  is  0.800000094528\n",
      "Cross-validation mean score for rbf SVC with C =  5  and gamma =  3  is  0.799388949245\n",
      "Cross-validation mean score for rbf SVC with C =  5  and gamma =  5  is  0.800003387126\n",
      "Cross-validation mean score for rbf SVC with C =  7  and gamma =  0.1  is  0.799693815814\n",
      "Cross-validation mean score for rbf SVC with C =  7  and gamma =  0.5  is  0.799693815814\n",
      "Cross-validation mean score for rbf SVC with C =  7  and gamma =  1  is  0.800000094528\n",
      "Cross-validation mean score for rbf SVC with C =  7  and gamma =  3  is  0.799389890193\n",
      "Cross-validation mean score for rbf SVC with C =  7  and gamma =  5  is  0.800923633968\n",
      "Cross-validation mean score for rbf SVC with C =  10  and gamma =  0.1  is  0.799693815814\n",
      "Cross-validation mean score for rbf SVC with C =  10  and gamma =  0.5  is  0.80030731419\n",
      "Cross-validation mean score for rbf SVC with C =  10  and gamma =  1  is  0.80030731419\n",
      "Cross-validation mean score for rbf SVC with C =  10  and gamma =  3  is  0.799389890193\n",
      "Cross-validation mean score for rbf SVC with C =  10  and gamma =  5  is  0.804604622779\n",
      "Cross-validation mean score for rbf SVC with C =  15  and gamma =  0.1  is  0.799693815814\n",
      "Cross-validation mean score for rbf SVC with C =  15  and gamma =  0.5  is  0.799692874866\n",
      "Cross-validation mean score for rbf SVC with C =  15  and gamma =  1  is  0.799389418997\n",
      "Cross-validation mean score for rbf SVC with C =  15  and gamma =  3  is  0.801844352005\n",
      "Cross-validation mean score for rbf SVC with C =  15  and gamma =  5  is  0.805216236371\n",
      "15\n",
      "5\n",
      "0.805216236371\n"
     ]
    }
   ],
   "source": [
    "C_young_rbf_NormDist_Angle, g_young_rbf_NormDist_Angle = svc_rbf_params(np.asarray(train_NormDist_Angle),\n",
    "                                                                        np.asarray(train_young),\n",
    "                                                                        [1, 3, 5, 7, 10, 15],\n",
    "                                                                        [0.1, 0.5, 1, 3, 5])"
   ]
  },
  {
   "cell_type": "code",
   "execution_count": 123,
   "metadata": {},
   "outputs": [
    {
     "name": "stdout",
     "output_type": "stream",
     "text": [
      "The C coefficient used is:  15\n",
      "The gamma coefficient used is:  5\n",
      "Final accuracy of the rbf model for young detection, with the landmark normalized disntances and angles features is:  0.787878787879\n",
      "The confusion matrix is\n",
      "[[ 24 220]\n",
      " [ 11 834]]\n"
     ]
    }
   ],
   "source": [
    "print(\"The C coefficient used is: \", C_young_rbf_NormDist_Angle)\n",
    "print(\"The gamma coefficient used is: \", g_young_rbf_NormDist_Angle)\n",
    "\n",
    "svc_young_rbf_NormDist_Angle = svm.SVC(kernel = 'rbf', C = C_young_rbf_NormDist_Angle,\n",
    "                                       gamma = g_young_rbf_NormDist_Angle)\n",
    "\n",
    "svc_young_rbf_NormDist_Angle.fit(np.asarray(train_NormDist_Angle), np.asarray(train_young))\n",
    "\n",
    "pred = svc_young_rbf_NormDist_Angle.predict(np.asarray(test_NormDist_Angle))\n",
    "\n",
    "print(\"Final accuracy of the rbf model for young detection, with the landmark normalized disntances and angles features is: \",\n",
    "      svc_young_rbf_NormDist_Angle.score(np.asarray(test_NormDist_Angle),\n",
    "                                         np.asarray(test_young)))\n",
    "print(\"The confusion matrix is\")\n",
    "print(confusion_matrix( np.asarray(test_young), pred))"
   ]
  },
  {
   "cell_type": "code",
   "execution_count": 124,
   "metadata": {
    "scrolled": true
   },
   "outputs": [
    {
     "name": "stdout",
     "output_type": "stream",
     "text": [
      "Cross-validation mean score for linear SVC with C =  0.5  is  0.800614062656\n",
      "Cross-validation mean score for linear SVC with C =  0.7  is  0.807973218876\n",
      "Cross-validation mean score for linear SVC with C =  0.9  is  0.812268174372\n",
      "0.9\n",
      "0.812268174372\n"
     ]
    }
   ],
   "source": [
    "C_young_lin_hog = svc_lin_params(np.asarray(train_hog),\n",
    "                                 np.asarray(train_young),\n",
    "                                 [0.5, 0.7, 0.9])"
   ]
  },
  {
   "cell_type": "code",
   "execution_count": 130,
   "metadata": {},
   "outputs": [
    {
     "name": "stdout",
     "output_type": "stream",
     "text": [
      "The C coefficient used is:  0.9\n",
      "Final accuracy of the linear model for young detection, with the HOG features is:  0.780532598714\n",
      "The confusion matrix is\n",
      "[[ 16 228]\n",
      " [ 11 834]]\n"
     ]
    }
   ],
   "source": [
    "print(\"The C coefficient used is: \", C_young_lin_hog)\n",
    "\n",
    "svc_young_lin_hog = svm.SVC(kernel = 'linear', C = C_young_lin_hog)\n",
    "\n",
    "svc_young_lin_hog.fit(np.asarray(train_hog), np.asarray(train_young))\n",
    "\n",
    "pred = svc_young_lin_hog.predict(np.asarray(test_hog))\n",
    "\n",
    "print(\"Final accuracy of the linear model for young detection, with the HOG features is: \",\n",
    "      svc_young_lin_hog.score(np.asarray(test_hog),\n",
    "                              np.asarray(test_young)))\n",
    "print(\"The confusion matrix is\")\n",
    "print(confusion_matrix( np.asarray(test_young), pred))"
   ]
  },
  {
   "cell_type": "code",
   "execution_count": 131,
   "metadata": {},
   "outputs": [
    {
     "name": "stdout",
     "output_type": "stream",
     "text": [
      "Cross-validation mean score for rbf SVC with C =  1  and gamma =  0.05  is  0.799693815814\n",
      "Cross-validation mean score for rbf SVC with C =  1  and gamma =  0.1  is  0.799693815814\n",
      "Cross-validation mean score for rbf SVC with C =  1  and gamma =  0.3  is  0.803681553091\n",
      "Cross-validation mean score for rbf SVC with C =  1  and gamma =  0.4  is  0.807671173709\n",
      "Cross-validation mean score for rbf SVC with C =  3  and gamma =  0.05  is  0.799693815814\n",
      "Cross-validation mean score for rbf SVC with C =  3  and gamma =  0.1  is  0.807975570525\n",
      "Cross-validation mean score for rbf SVC with C =  3  and gamma =  0.3  is  0.815341313384\n",
      "Cross-validation mean score for rbf SVC with C =  3  and gamma =  0.4  is  0.812888733469\n",
      "Cross-validation mean score for rbf SVC with C =  5  and gamma =  0.05  is  0.802149220018\n",
      "Cross-validation mean score for rbf SVC with C =  5  and gamma =  0.1  is  0.822387599922\n",
      "Cross-validation mean score for rbf SVC with C =  5  and gamma =  0.3  is  0.80644841339\n",
      "Cross-validation mean score for rbf SVC with C =  5  and gamma =  0.4  is  0.804303524332\n",
      "Cross-validation mean score for rbf SVC with C =  6  and gamma =  0.05  is  0.807973688629\n",
      "Cross-validation mean score for rbf SVC with C =  6  and gamma =  0.1  is  0.823004390895\n",
      "Cross-validation mean score for rbf SVC with C =  6  and gamma =  0.3  is  0.803384218439\n",
      "Cross-validation mean score for rbf SVC with C =  6  and gamma =  0.4  is  0.800929285431\n",
      "6\n",
      "0.1\n",
      "0.823004390895\n"
     ]
    }
   ],
   "source": [
    "C_young_rbf_hog, g_young_hog = svc_rbf_params(np.asarray(train_hog),\n",
    "                                              np.asarray(train_young),\n",
    "                                              [1, 3, 5, 6],\n",
    "                                              [0.05, 0.1, 0.3, 0.4])"
   ]
  },
  {
   "cell_type": "code",
   "execution_count": 133,
   "metadata": {},
   "outputs": [
    {
     "name": "stdout",
     "output_type": "stream",
     "text": [
      "The C coefficient used is:  15\n",
      "The gamma coefficient used is:  0.1\n",
      "Final accuracy of the rbf model for young detection, with the HOG features is:  0.786960514233\n",
      "The confusion matrix is\n",
      "[[ 28 216]\n",
      " [ 16 829]]\n"
     ]
    }
   ],
   "source": [
    "print(\"The C coefficient used is: \", C_young_rbf_NormDist_Angle)\n",
    "print(\"The gamma coefficient used is: \", g_young_hog)\n",
    "\n",
    "svc_young_rbf_hog = svm.SVC(kernel = 'rbf', C = C_young_rbf_hog, gamma = g_young_hog)\n",
    "\n",
    "svc_young_rbf_hog.fit(np.asarray(train_hog), np.asarray(train_young))\n",
    "\n",
    "pred = svc_young_rbf_hog.predict(np.asarray(test_hog))\n",
    "\n",
    "print(\"Final accuracy of the rbf model for young detection, with the HOG features is: \",\n",
    "      svc_young_rbf_hog.score(np.asarray(test_hog),\n",
    "                              np.asarray(test_young)))\n",
    "print(\"The confusion matrix is\")\n",
    "print(confusion_matrix( np.asarray(test_young), pred))"
   ]
  },
  {
   "cell_type": "code",
   "execution_count": 35,
   "metadata": {},
   "outputs": [
    {
     "name": "stderr",
     "output_type": "stream",
     "text": [
      "C:\\Users\\ching\\Anaconda3\\envs\\Assignment_1\\lib\\site-packages\\sklearn\\neural_network\\multilayer_perceptron.py:562: ConvergenceWarning: Stochastic Optimizer: Maximum iterations (100) reached and the optimization hasn't converged yet.\n",
      "  % self.max_iter, ConvergenceWarning)\n",
      "C:\\Users\\ching\\Anaconda3\\envs\\Assignment_1\\lib\\site-packages\\sklearn\\neural_network\\multilayer_perceptron.py:562: ConvergenceWarning: Stochastic Optimizer: Maximum iterations (100) reached and the optimization hasn't converged yet.\n",
      "  % self.max_iter, ConvergenceWarning)\n",
      "C:\\Users\\ching\\Anaconda3\\envs\\Assignment_1\\lib\\site-packages\\sklearn\\neural_network\\multilayer_perceptron.py:562: ConvergenceWarning: Stochastic Optimizer: Maximum iterations (100) reached and the optimization hasn't converged yet.\n",
      "  % self.max_iter, ConvergenceWarning)\n"
     ]
    },
    {
     "name": "stdout",
     "output_type": "stream",
     "text": [
      "Cross-validation mean score for MLP N(layers) =  1  N(nodes) =  100  and adam activation function is  0.876996853828\n"
     ]
    },
    {
     "name": "stderr",
     "output_type": "stream",
     "text": [
      "C:\\Users\\ching\\Anaconda3\\envs\\Assignment_1\\lib\\site-packages\\sklearn\\neural_network\\multilayer_perceptron.py:562: ConvergenceWarning: Stochastic Optimizer: Maximum iterations (100) reached and the optimization hasn't converged yet.\n",
      "  % self.max_iter, ConvergenceWarning)\n",
      "C:\\Users\\ching\\Anaconda3\\envs\\Assignment_1\\lib\\site-packages\\sklearn\\neural_network\\multilayer_perceptron.py:562: ConvergenceWarning: Stochastic Optimizer: Maximum iterations (100) reached and the optimization hasn't converged yet.\n",
      "  % self.max_iter, ConvergenceWarning)\n",
      "C:\\Users\\ching\\Anaconda3\\envs\\Assignment_1\\lib\\site-packages\\sklearn\\neural_network\\multilayer_perceptron.py:562: ConvergenceWarning: Stochastic Optimizer: Maximum iterations (100) reached and the optimization hasn't converged yet.\n",
      "  % self.max_iter, ConvergenceWarning)\n"
     ]
    },
    {
     "name": "stdout",
     "output_type": "stream",
     "text": [
      "Cross-validation mean score for MLP N(layers) =  1  N(nodes) =  200  and adam activation function is  0.873933133528\n"
     ]
    },
    {
     "name": "stderr",
     "output_type": "stream",
     "text": [
      "C:\\Users\\ching\\Anaconda3\\envs\\Assignment_1\\lib\\site-packages\\sklearn\\neural_network\\multilayer_perceptron.py:562: ConvergenceWarning: Stochastic Optimizer: Maximum iterations (100) reached and the optimization hasn't converged yet.\n",
      "  % self.max_iter, ConvergenceWarning)\n",
      "C:\\Users\\ching\\Anaconda3\\envs\\Assignment_1\\lib\\site-packages\\sklearn\\neural_network\\multilayer_perceptron.py:562: ConvergenceWarning: Stochastic Optimizer: Maximum iterations (100) reached and the optimization hasn't converged yet.\n",
      "  % self.max_iter, ConvergenceWarning)\n",
      "C:\\Users\\ching\\Anaconda3\\envs\\Assignment_1\\lib\\site-packages\\sklearn\\neural_network\\multilayer_perceptron.py:562: ConvergenceWarning: Stochastic Optimizer: Maximum iterations (100) reached and the optimization hasn't converged yet.\n",
      "  % self.max_iter, ConvergenceWarning)\n"
     ]
    },
    {
     "name": "stdout",
     "output_type": "stream",
     "text": [
      "Cross-validation mean score for MLP N(layers) =  1  N(nodes) =  300  and adam activation function is  0.882518892001\n"
     ]
    },
    {
     "name": "stderr",
     "output_type": "stream",
     "text": [
      "C:\\Users\\ching\\Anaconda3\\envs\\Assignment_1\\lib\\site-packages\\sklearn\\neural_network\\multilayer_perceptron.py:562: ConvergenceWarning: Stochastic Optimizer: Maximum iterations (100) reached and the optimization hasn't converged yet.\n",
      "  % self.max_iter, ConvergenceWarning)\n",
      "C:\\Users\\ching\\Anaconda3\\envs\\Assignment_1\\lib\\site-packages\\sklearn\\neural_network\\multilayer_perceptron.py:562: ConvergenceWarning: Stochastic Optimizer: Maximum iterations (100) reached and the optimization hasn't converged yet.\n",
      "  % self.max_iter, ConvergenceWarning)\n",
      "C:\\Users\\ching\\Anaconda3\\envs\\Assignment_1\\lib\\site-packages\\sklearn\\neural_network\\multilayer_perceptron.py:562: ConvergenceWarning: Stochastic Optimizer: Maximum iterations (100) reached and the optimization hasn't converged yet.\n",
      "  % self.max_iter, ConvergenceWarning)\n"
     ]
    },
    {
     "name": "stdout",
     "output_type": "stream",
     "text": [
      "Cross-validation mean score for MLP N(layers) =  2  N(nodes) =  100  and adam activation function is  0.878219235871\n"
     ]
    },
    {
     "name": "stderr",
     "output_type": "stream",
     "text": [
      "C:\\Users\\ching\\Anaconda3\\envs\\Assignment_1\\lib\\site-packages\\sklearn\\neural_network\\multilayer_perceptron.py:562: ConvergenceWarning: Stochastic Optimizer: Maximum iterations (100) reached and the optimization hasn't converged yet.\n",
      "  % self.max_iter, ConvergenceWarning)\n",
      "C:\\Users\\ching\\Anaconda3\\envs\\Assignment_1\\lib\\site-packages\\sklearn\\neural_network\\multilayer_perceptron.py:562: ConvergenceWarning: Stochastic Optimizer: Maximum iterations (100) reached and the optimization hasn't converged yet.\n",
      "  % self.max_iter, ConvergenceWarning)\n"
     ]
    },
    {
     "name": "stdout",
     "output_type": "stream",
     "text": [
      "Cross-validation mean score for MLP N(layers) =  2  N(nodes) =  200  and adam activation function is  0.884049622668\n"
     ]
    },
    {
     "name": "stderr",
     "output_type": "stream",
     "text": [
      "C:\\Users\\ching\\Anaconda3\\envs\\Assignment_1\\lib\\site-packages\\sklearn\\neural_network\\multilayer_perceptron.py:562: ConvergenceWarning: Stochastic Optimizer: Maximum iterations (100) reached and the optimization hasn't converged yet.\n",
      "  % self.max_iter, ConvergenceWarning)\n",
      "C:\\Users\\ching\\Anaconda3\\envs\\Assignment_1\\lib\\site-packages\\sklearn\\neural_network\\multilayer_perceptron.py:562: ConvergenceWarning: Stochastic Optimizer: Maximum iterations (100) reached and the optimization hasn't converged yet.\n",
      "  % self.max_iter, ConvergenceWarning)\n"
     ]
    },
    {
     "name": "stdout",
     "output_type": "stream",
     "text": [
      "Cross-validation mean score for MLP N(layers) =  2  N(nodes) =  300  and adam activation function is  0.864725877509\n",
      "Cross-validation mean score for MLP N(layers) =  3  N(nodes) =  100  and adam activation function is  0.880063115462\n",
      "Cross-validation mean score for MLP N(layers) =  3  N(nodes) =  200  and adam activation function is  0.867788185956\n",
      "Cross-validation mean score for MLP N(layers) =  3  N(nodes) =  300  and adam activation function is  0.876074631662\n",
      "(200, 200)\n",
      "2\n",
      "0.884049622668\n"
     ]
    }
   ],
   "source": [
    "n_young = mlp_params([100, 200, 300], np.asarray(train_img_toProcess), np.asarray(train_young))"
   ]
  },
  {
   "cell_type": "code",
   "execution_count": 41,
   "metadata": {},
   "outputs": [],
   "source": [
    "mlp_young = MLPClassifier(hidden_layer_sizes = n_young,\n",
    "                    max_iter = 100,\n",
    "                    activation = 'relu',\n",
    "                    solver = 'adam',\n",
    "                    alpha = 0.0001,\n",
    "                    learning_rate = 'adaptive')\n",
    "mlp_young_plot = MLPClassifier(hidden_layer_sizes = n_young,\n",
    "                    max_iter = 100,\n",
    "                    activation = 'relu',\n",
    "                    solver = 'adam',\n",
    "                    alpha = 0.0001,\n",
    "                    learning_rate = 'adaptive')"
   ]
  },
  {
   "cell_type": "code",
   "execution_count": 42,
   "metadata": {},
   "outputs": [
    {
     "name": "stdout",
     "output_type": "stream",
     "text": [
      "done\n"
     ]
    },
    {
     "name": "stderr",
     "output_type": "stream",
     "text": [
      "C:\\Users\\ching\\Anaconda3\\envs\\Assignment_1\\lib\\site-packages\\sklearn\\neural_network\\multilayer_perceptron.py:562: ConvergenceWarning: Stochastic Optimizer: Maximum iterations (100) reached and the optimization hasn't converged yet.\n",
      "  % self.max_iter, ConvergenceWarning)\n"
     ]
    }
   ],
   "source": [
    "mlp_young.fit(np.asarray(train_img_toProcess), np.asarray(train_young))\n",
    "print('done')"
   ]
  },
  {
   "cell_type": "code",
   "execution_count": 43,
   "metadata": {},
   "outputs": [
    {
     "name": "stdout",
     "output_type": "stream",
     "text": [
      "Final accuracy of the MLP model for young detection is: 0.870523415978\n",
      "The confusion matrix is\n",
      "[[141  87]\n",
      " [ 54 807]]\n"
     ]
    }
   ],
   "source": [
    "pred = mlp_young.predict(np.asarray(test_img_toProcess))\n",
    "\n",
    "print(\"Final accuracy of the MLP model for young detection is:\",\n",
    "mlp_young.score(np.asarray(test_img_toProcess),\n",
    "                     np.asarray(test_young)))\n",
    "print(\"The confusion matrix is\")\n",
    "print(confusion_matrix( np.asarray(test_young), pred))"
   ]
  },
  {
   "cell_type": "code",
   "execution_count": 44,
   "metadata": {},
   "outputs": [],
   "source": [
    "with open('task_2.csv', 'w') as csvfile:\n",
    "    filewriter = csv.writer(csvfile, delimiter=',',\n",
    "                            quotechar='|', quoting=csv.QUOTE_MINIMAL)\n",
    "    filewriter.writerow([mlp_young.score(np.asarray(test_img_toProcess), np.asarray(test_young))])\n",
    "    #filewriter.writerow(['', ''])\n",
    "    for i in range(0, len(pred)):\n",
    "        filewriter.writerow([testList[i].imageInfo.image[42:], pred[i]])\n",
    "        #filewriter.writerow(['', ''])"
   ]
  },
  {
   "cell_type": "code",
   "execution_count": 45,
   "metadata": {},
   "outputs": [
    {
     "name": "stderr",
     "output_type": "stream",
     "text": [
      "C:\\Users\\ching\\Anaconda3\\envs\\Assignment_1\\lib\\site-packages\\sklearn\\neural_network\\multilayer_perceptron.py:562: ConvergenceWarning: Stochastic Optimizer: Maximum iterations (100) reached and the optimization hasn't converged yet.\n",
      "  % self.max_iter, ConvergenceWarning)\n",
      "C:\\Users\\ching\\Anaconda3\\envs\\Assignment_1\\lib\\site-packages\\sklearn\\neural_network\\multilayer_perceptron.py:562: ConvergenceWarning: Stochastic Optimizer: Maximum iterations (100) reached and the optimization hasn't converged yet.\n",
      "  % self.max_iter, ConvergenceWarning)\n",
      "C:\\Users\\ching\\Anaconda3\\envs\\Assignment_1\\lib\\site-packages\\sklearn\\neural_network\\multilayer_perceptron.py:562: ConvergenceWarning: Stochastic Optimizer: Maximum iterations (100) reached and the optimization hasn't converged yet.\n",
      "  % self.max_iter, ConvergenceWarning)\n",
      "C:\\Users\\ching\\Anaconda3\\envs\\Assignment_1\\lib\\site-packages\\sklearn\\neural_network\\multilayer_perceptron.py:562: ConvergenceWarning: Stochastic Optimizer: Maximum iterations (100) reached and the optimization hasn't converged yet.\n",
      "  % self.max_iter, ConvergenceWarning)\n",
      "C:\\Users\\ching\\Anaconda3\\envs\\Assignment_1\\lib\\site-packages\\sklearn\\neural_network\\multilayer_perceptron.py:562: ConvergenceWarning: Stochastic Optimizer: Maximum iterations (100) reached and the optimization hasn't converged yet.\n",
      "  % self.max_iter, ConvergenceWarning)\n",
      "C:\\Users\\ching\\Anaconda3\\envs\\Assignment_1\\lib\\site-packages\\sklearn\\neural_network\\multilayer_perceptron.py:562: ConvergenceWarning: Stochastic Optimizer: Maximum iterations (100) reached and the optimization hasn't converged yet.\n",
      "  % self.max_iter, ConvergenceWarning)\n",
      "C:\\Users\\ching\\Anaconda3\\envs\\Assignment_1\\lib\\site-packages\\sklearn\\neural_network\\multilayer_perceptron.py:562: ConvergenceWarning: Stochastic Optimizer: Maximum iterations (100) reached and the optimization hasn't converged yet.\n",
      "  % self.max_iter, ConvergenceWarning)\n",
      "C:\\Users\\ching\\Anaconda3\\envs\\Assignment_1\\lib\\site-packages\\sklearn\\neural_network\\multilayer_perceptron.py:562: ConvergenceWarning: Stochastic Optimizer: Maximum iterations (100) reached and the optimization hasn't converged yet.\n",
      "  % self.max_iter, ConvergenceWarning)\n",
      "C:\\Users\\ching\\Anaconda3\\envs\\Assignment_1\\lib\\site-packages\\sklearn\\neural_network\\multilayer_perceptron.py:562: ConvergenceWarning: Stochastic Optimizer: Maximum iterations (100) reached and the optimization hasn't converged yet.\n",
      "  % self.max_iter, ConvergenceWarning)\n",
      "C:\\Users\\ching\\Anaconda3\\envs\\Assignment_1\\lib\\site-packages\\sklearn\\neural_network\\multilayer_perceptron.py:562: ConvergenceWarning: Stochastic Optimizer: Maximum iterations (100) reached and the optimization hasn't converged yet.\n",
      "  % self.max_iter, ConvergenceWarning)\n",
      "C:\\Users\\ching\\Anaconda3\\envs\\Assignment_1\\lib\\site-packages\\sklearn\\neural_network\\multilayer_perceptron.py:562: ConvergenceWarning: Stochastic Optimizer: Maximum iterations (100) reached and the optimization hasn't converged yet.\n",
      "  % self.max_iter, ConvergenceWarning)\n",
      "C:\\Users\\ching\\Anaconda3\\envs\\Assignment_1\\lib\\site-packages\\sklearn\\neural_network\\multilayer_perceptron.py:562: ConvergenceWarning: Stochastic Optimizer: Maximum iterations (100) reached and the optimization hasn't converged yet.\n",
      "  % self.max_iter, ConvergenceWarning)\n"
     ]
    },
    {
     "data": {
      "image/png": "[encoded data removed]",
      "text/plain": [
       "<Figure size 432x288 with 1 Axes>"
      ]
     },
     "metadata": {
      "needs_background": "light"
     },
     "output_type": "display_data"
    }
   ],
   "source": [
    "young_plot = plot_learning_curve(mlp_young_plot, 'Task 2 Learning Curve',\n",
    "                                 np.asarray(train_img_toProcess), np.asarray(train_young),\n",
    "                                 ylim=None, cv=3,\n",
    "                                 n_jobs=None, train_sizes=np.linspace(.1, 1.0, 5))"
   ]
  },
  {
   "cell_type": "markdown",
   "metadata": {},
   "source": [
    "# Task 3\n",
    "The best model for glasses detection is the SVM classifier with 'linear' kernel with C = 0.9. It decides according to the landmark normalized distances; angles and HOG image representation"
   ]
  },
  {
   "cell_type": "code",
   "execution_count": 99,
   "metadata": {
    "scrolled": true
   },
   "outputs": [
    {
     "name": "stdout",
     "output_type": "stream",
     "text": [
      "Cross-validation mean score for linear SVC with C =  0.001  is  0.863796361933\n",
      "Cross-validation mean score for linear SVC with C =  0.01  is  0.884959690534\n",
      "Cross-validation mean score for linear SVC with C =  0.1  is  0.877902583811\n",
      "Cross-validation mean score for linear SVC with C =  0.5  is  0.876059735591\n",
      "0.01\n",
      "0.884959690534\n"
     ]
    }
   ],
   "source": [
    "C_glasses_lin_landmarks = svc_lin_params(np.asarray(train_landmarks_reshape),\n",
    "                                         np.asarray(train_eyeglasses),\n",
    "                                         [0.001, 0.01, 0.1, 0.5])"
   ]
  },
  {
   "cell_type": "code",
   "execution_count": 100,
   "metadata": {},
   "outputs": [
    {
     "name": "stdout",
     "output_type": "stream",
     "text": [
      "The C coefficient used is:  0.01\n",
      "Final accuracy of the linear model for eyeglasses detection, with the landmarks features is:  0.895316804408\n",
      "The confusion matrix is\n",
      "[[754  28]\n",
      " [ 86 221]]\n"
     ]
    }
   ],
   "source": [
    "from sklearn.metrics import confusion_matrix\n",
    "print(\"The C coefficient used is: \", C_glasses_lin_landmarks)\n",
    "\n",
    "svc_glasses_lin_landmarks = svm.SVC(kernel = 'linear', C = C_glasses_lin_landmarks)\n",
    "\n",
    "svc_glasses_lin_landmarks.fit(np.asarray(train_landmarks_reshape), np.asarray(train_eyeglasses))\n",
    "\n",
    "pred = svc_glasses_lin_landmarks.predict(np.asarray(test_landmarks_reshape))\n",
    "\n",
    "print(\"Final accuracy of the linear model for eyeglasses detection, with the landmarks features is: \",\n",
    "      svc_glasses_lin_landmarks.score(np.asarray(test_landmarks_reshape),\n",
    "                                      np.asarray(test_eyeglasses)))\n",
    "print(\"The confusion matrix is\")\n",
    "print(confusion_matrix( np.asarray(test_eyeglasses), pred))\n"
   ]
  },
  {
   "cell_type": "code",
   "execution_count": 101,
   "metadata": {},
   "outputs": [
    {
     "name": "stdout",
     "output_type": "stream",
     "text": [
      "Cross-validation mean score for linear SVC with C =  0.1  is  0.70950959644\n",
      "Cross-validation mean score for linear SVC with C =  0.5  is  0.70950959644\n",
      "Cross-validation mean score for linear SVC with C =  1  is  0.710122153867\n",
      "Cross-validation mean score for linear SVC with C =  3  is  0.790490877642\n",
      "Cross-validation mean score for linear SVC with C =  7  is  0.818702842988\n",
      "Cross-validation mean score for linear SVC with C =  10  is  0.827908604005\n",
      "Cross-validation mean score for linear SVC with C =  15  is  0.839864292579\n",
      "15\n",
      "0.839864292579\n"
     ]
    }
   ],
   "source": [
    "C_glasses_lin_NormDist_Angle = svc_lin_params(np.asarray(train_NormDist_Angle),\n",
    "                                              np.asarray(train_eyeglasses),\n",
    "                                              [0.1, 0.5, 1, 3, 7, 10, 15])"
   ]
  },
  {
   "cell_type": "code",
   "execution_count": 102,
   "metadata": {},
   "outputs": [
    {
     "name": "stdout",
     "output_type": "stream",
     "text": [
      "The C coefficient used is:  15\n",
      "Final accuracy of the linear model for eyeglasses detection, with the landmark normalized disntances and angles features is:  0.853994490358\n",
      "The confusion matrix is\n",
      "[[759  23]\n",
      " [136 171]]\n"
     ]
    }
   ],
   "source": [
    "print(\"The C coefficient used is: \", C_glasses_lin_NormDist_Angle)\n",
    "\n",
    "svc_glasses_lin_NormDist_Angle = svm.SVC(kernel = 'linear', C = C_glasses_lin_NormDist_Angle)\n",
    "\n",
    "svc_glasses_lin_NormDist_Angle.fit(np.asarray(train_NormDist_Angle), np.asarray(train_eyeglasses))\n",
    "\n",
    "pred = svc_glasses_lin_NormDist_Angle.predict(np.asarray(test_NormDist_Angle))\n",
    "\n",
    "print(\"Final accuracy of the linear model for eyeglasses detection, with the landmark normalized disntances and angles features is: \",\n",
    "      svc_glasses_lin_NormDist_Angle.score(np.asarray(test_NormDist_Angle),\n",
    "                                           np.asarray(test_eyeglasses)))\n",
    "print(\"The confusion matrix is\")\n",
    "print(confusion_matrix( np.asarray(test_eyeglasses), pred))"
   ]
  },
  {
   "cell_type": "code",
   "execution_count": 103,
   "metadata": {},
   "outputs": [
    {
     "name": "stdout",
     "output_type": "stream",
     "text": [
      "Cross-validation mean score for rbf SVC with C =  1  and gamma =  0.1  is  0.70950959644\n",
      "Cross-validation mean score for rbf SVC with C =  1  and gamma =  0.5  is  0.724229789333\n",
      "Cross-validation mean score for rbf SVC with C =  1  and gamma =  1  is  0.761046262639\n",
      "Cross-validation mean score for rbf SVC with C =  1  and gamma =  3  is  0.802454559226\n",
      "Cross-validation mean score for rbf SVC with C =  1  and gamma =  5  is  0.815024681351\n",
      "Cross-validation mean score for rbf SVC with C =  3  and gamma =  0.1  is  0.70950959644\n",
      "Cross-validation mean score for rbf SVC with C =  3  and gamma =  0.5  is  0.7920265062\n",
      "Cross-validation mean score for rbf SVC with C =  3  and gamma =  1  is  0.814106319293\n",
      "Cross-validation mean score for rbf SVC with C =  3  and gamma =  3  is  0.837424416189\n",
      "Cross-validation mean score for rbf SVC with C =  3  and gamma =  5  is  0.846322490678\n",
      "Cross-validation mean score for rbf SVC with C =  5  and gamma =  0.1  is  0.711043812853\n",
      "Cross-validation mean score for rbf SVC with C =  5  and gamma =  0.5  is  0.814721229813\n",
      "Cross-validation mean score for rbf SVC with C =  5  and gamma =  1  is  0.830978454749\n",
      "Cross-validation mean score for rbf SVC with C =  5  and gamma =  3  is  0.846319195194\n",
      "Cross-validation mean score for rbf SVC with C =  5  and gamma =  5  is  0.853677406135\n",
      "Cross-validation mean score for rbf SVC with C =  7  and gamma =  0.1  is  0.72913918704\n",
      "Cross-validation mean score for rbf SVC with C =  7  and gamma =  0.5  is  0.828829801898\n",
      "Cross-validation mean score for rbf SVC with C =  7  and gamma =  1  is  0.84171419719\n",
      "Cross-validation mean score for rbf SVC with C =  7  and gamma =  3  is  0.85428761047\n",
      "Cross-validation mean score for rbf SVC with C =  7  and gamma =  5  is  0.861654297164\n",
      "Cross-validation mean score for rbf SVC with C =  10  and gamma =  0.1  is  0.766565863237\n",
      "Cross-validation mean score for rbf SVC with C =  10  and gamma =  0.5  is  0.835580628464\n",
      "Cross-validation mean score for rbf SVC with C =  10  and gamma =  1  is  0.848156397723\n",
      "Cross-validation mean score for rbf SVC with C =  10  and gamma =  3  is  0.858884138494\n",
      "Cross-validation mean score for rbf SVC with C =  10  and gamma =  5  is  0.865942667464\n",
      "Cross-validation mean score for rbf SVC with C =  15  and gamma =  0.1  is  0.799082676304\n",
      "Cross-validation mean score for rbf SVC with C =  15  and gamma =  0.5  is  0.846311199297\n",
      "Cross-validation mean score for rbf SVC with C =  15  and gamma =  1  is  0.855206448054\n",
      "Cross-validation mean score for rbf SVC with C =  15  and gamma =  3  is  0.862563716604\n",
      "Cross-validation mean score for rbf SVC with C =  15  and gamma =  5  is  0.867174366071\n",
      "15\n",
      "5\n",
      "0.867174366071\n"
     ]
    }
   ],
   "source": [
    "C_glasses_rbf_NormDist_Angle, g_glasses_rbf_NormDist_Angle = svc_rbf_params(np.asarray(train_NormDist_Angle),\n",
    "                                                                            np.asarray(train_eyeglasses),\n",
    "                                                                            [1, 3, 5, 7, 10, 15],\n",
    "                                                                            [0.1, 0.5, 1, 3, 5])"
   ]
  },
  {
   "cell_type": "code",
   "execution_count": 105,
   "metadata": {},
   "outputs": [
    {
     "name": "stdout",
     "output_type": "stream",
     "text": [
      "The C coefficient used is:  15\n",
      "The gamma coefficient used is:  5\n",
      "Final accuracy of the rbf model for eyeglasses detection, with the landmark normalized disntances and angles features is:  0.880624426079\n",
      "The confusion matrix is\n",
      "[[744  38]\n",
      " [ 92 215]]\n"
     ]
    }
   ],
   "source": [
    "print(\"The C coefficient used is: \", C_glasses_rbf_NormDist_Angle)\n",
    "print(\"The gamma coefficient used is: \", g_glasses_rbf_NormDist_Angle)\n",
    "\n",
    "svc_glasses_rbf_NormDist_Angle = svm.SVC(kernel = 'rbf', C = C_glasses_rbf_NormDist_Angle,\n",
    "                                         gamma = g_glasses_rbf_NormDist_Angle)\n",
    "\n",
    "svc_glasses_rbf_NormDist_Angle.fit(np.asarray(train_NormDist_Angle), np.asarray(train_eyeglasses))\n",
    "\n",
    "pred = svc_glasses_rbf_NormDist_Angle.predict(np.asarray(test_NormDist_Angle))\n",
    "\n",
    "print(\"Final accuracy of the rbf model for eyeglasses detection, with the landmark normalized disntances and angles features is: \",\n",
    "      svc_glasses_rbf_NormDist_Angle.score(np.asarray(test_NormDist_Angle),\n",
    "                                           np.asarray(test_eyeglasses)))\n",
    "print(\"The confusion matrix is\")\n",
    "print(confusion_matrix( np.asarray(test_eyeglasses), pred))"
   ]
  },
  {
   "cell_type": "code",
   "execution_count": 106,
   "metadata": {},
   "outputs": [
    {
     "name": "stdout",
     "output_type": "stream",
     "text": [
      "Cross-validation mean score for linear SVC with C =  0.5  is  0.947544974629\n",
      "Cross-validation mean score for linear SVC with C =  0.7  is  0.949690806078\n",
      "Cross-validation mean score for linear SVC with C =  0.9  is  0.952144798138\n",
      "0.9\n",
      "0.952144798138\n"
     ]
    }
   ],
   "source": [
    "C_glasses_lin_hog = svc_lin_params(np.asarray(train_hog),\n",
    "                                   np.asarray(train_eyeglasses),\n",
    "                                   [0.5, 0.7, 0.9])"
   ]
  },
  {
   "cell_type": "code",
   "execution_count": 107,
   "metadata": {},
   "outputs": [
    {
     "name": "stdout",
     "output_type": "stream",
     "text": [
      "The C coefficient used is:  0.9\n",
      "Final accuracy of the linear model for eyeglasses detection, with the HOG features is:  0.949494949495\n",
      "The confusion matrix is\n",
      "[[779   3]\n",
      " [ 52 255]]\n"
     ]
    }
   ],
   "source": [
    "print(\"The C coefficient used is: \", C_glasses_lin_hog)\n",
    "\n",
    "svc_glasses_lin_hog = svm.SVC(kernel = 'linear', C = C_smile_lin_hog)\n",
    "\n",
    "svc_glasses_lin_hog.fit(np.asarray(train_hog), np.asarray(train_eyeglasses))\n",
    "\n",
    "pred = svc_glasses_lin_hog.predict(np.asarray(test_hog))\n",
    "\n",
    "print(\"Final accuracy of the linear model for eyeglasses detection, with the HOG features is: \",\n",
    "      svc_glasses_lin_hog.score(np.asarray(test_hog),\n",
    "                                np.asarray(test_eyeglasses)))\n",
    "print(\"The confusion matrix is\")\n",
    "print(confusion_matrix( np.asarray(test_eyeglasses), pred))"
   ]
  },
  {
   "cell_type": "code",
   "execution_count": 108,
   "metadata": {},
   "outputs": [
    {
     "name": "stdout",
     "output_type": "stream",
     "text": [
      "Cross-validation mean score for rbf SVC with C =  1  and gamma =  0.05  is  0.926689800865\n",
      "Cross-validation mean score for rbf SVC with C =  1  and gamma =  0.1  is  0.934666687564\n",
      "Cross-validation mean score for rbf SVC with C =  1  and gamma =  0.3  is  0.938653481006\n",
      "Cross-validation mean score for rbf SVC with C =  1  and gamma =  0.4  is  0.934058360797\n",
      "Cross-validation mean score for rbf SVC with C =  3  and gamma =  0.05  is  0.940186286719\n",
      "Cross-validation mean score for rbf SVC with C =  3  and gamma =  0.1  is  0.947852191405\n",
      "Cross-validation mean score for rbf SVC with C =  3  and gamma =  0.3  is  0.948161294407\n",
      "Cross-validation mean score for rbf SVC with C =  3  and gamma =  0.4  is  0.942643101623\n",
      "Cross-validation mean score for rbf SVC with C =  5  and gamma =  0.05  is  0.946319388579\n",
      "Cross-validation mean score for rbf SVC with C =  5  and gamma =  0.1  is  0.950305713712\n",
      "Cross-validation mean score for rbf SVC with C =  5  and gamma =  0.3  is  0.949079188156\n",
      "Cross-validation mean score for rbf SVC with C =  5  and gamma =  0.4  is  0.942946558935\n",
      "Cross-validation mean score for rbf SVC with C =  6  and gamma =  0.05  is  0.949077777455\n",
      "Cross-validation mean score for rbf SVC with C =  6  and gamma =  0.1  is  0.951226430306\n",
      "Cross-validation mean score for rbf SVC with C =  6  and gamma =  0.3  is  0.947853133796\n",
      "Cross-validation mean score for rbf SVC with C =  6  and gamma =  0.4  is  0.941720033379\n",
      "6\n",
      "0.1\n",
      "0.951226430306\n"
     ]
    }
   ],
   "source": [
    "C_glasses_rbf_hog, g_glasses_hog = svc_rbf_params(np.asarray(train_hog),\n",
    "                                                  np.asarray(train_eyeglasses),\n",
    "                                                  [1, 3, 5, 6],\n",
    "                                                  [0.05, 0.1, 0.3, 0.4])"
   ]
  },
  {
   "cell_type": "code",
   "execution_count": 109,
   "metadata": {},
   "outputs": [
    {
     "name": "stdout",
     "output_type": "stream",
     "text": [
      "The C coefficient used is:  15\n",
      "The gamma coefficient used is:  0.1\n",
      "Final accuracy of the rbf model for eyeglasses detection, with the HOG features is:  0.951331496786\n",
      "The confusion matrix is\n",
      "[[777   5]\n",
      " [ 48 259]]\n"
     ]
    }
   ],
   "source": [
    "print(\"The C coefficient used is: \", C_glasses_rbf_NormDist_Angle)\n",
    "print(\"The gamma coefficient used is: \", g_glasses_hog)\n",
    "\n",
    "svc_glasses_rbf_hog = svm.SVC(kernel = 'rbf', C = C_glasses_rbf_hog, gamma = g_glasses_hog)\n",
    "\n",
    "svc_glasses_rbf_hog.fit(np.asarray(train_hog), np.asarray(train_eyeglasses))\n",
    "\n",
    "pred = svc_glasses_rbf_hog.predict(np.asarray(test_hog))\n",
    "\n",
    "print(\"Final accuracy of the rbf model for eyeglasses detection, with the HOG features is: \",\n",
    "      svc_glasses_rbf_hog.score(np.asarray(test_hog),\n",
    "                                np.asarray(test_eyeglasses)))\n",
    "print(\"The confusion matrix is\")\n",
    "print(confusion_matrix( np.asarray(test_eyeglasses), pred))"
   ]
  },
  {
   "cell_type": "code",
   "execution_count": 46,
   "metadata": {},
   "outputs": [
    {
     "name": "stdout",
     "output_type": "stream",
     "text": [
      "Cross-validation mean score for linear SVC with C =  0.5  is  0.949693251534\n",
      "Cross-validation mean score for linear SVC with C =  0.7  is  0.953067484663\n",
      "Cross-validation mean score for linear SVC with C =  0.9  is  0.955828220859\n",
      "0.9\n",
      "0.955828220859\n"
     ]
    }
   ],
   "source": [
    "C_glasses_lin_NormDist_Angle_hog = svc_lin_params(np.asarray(train_NormDist_Angle_hog),\n",
    "                                                  np.asarray(train_eyeglasses),\n",
    "                                                  [0.5, 0.7, 0.9])"
   ]
  },
  {
   "cell_type": "code",
   "execution_count": 52,
   "metadata": {},
   "outputs": [
    {
     "name": "stdout",
     "output_type": "stream",
     "text": [
      "The C coefficient used is:  0.9\n",
      "Final accuracy of the linear model for eyeglasses detection with the landmark normalized distances, Angles and HOG features is:  0.966023875115\n",
      "The confusion matrix is\n",
      "[[768   2]\n",
      " [ 35 284]]\n"
     ]
    }
   ],
   "source": [
    "print(\"The C coefficient used is: \", C_glasses_lin_NormDist_Angle_hog)\n",
    "\n",
    "svc_glasses_lin_NormDist_Angle_hog = svm.SVC(kernel = 'linear', C = C_glasses_lin_NormDist_Angle_hog)\n",
    "svc_glasses_lin_NormDist_Angle_hog_plot = svm.SVC(kernel = 'linear', C = C_glasses_lin_NormDist_Angle_hog)\n",
    "\n",
    "\n",
    "svc_glasses_lin_NormDist_Angle_hog.fit(np.asarray(train_NormDist_Angle_hog), np.asarray(train_eyeglasses))\n",
    "\n",
    "pred = svc_glasses_lin_NormDist_Angle_hog.predict(np.asarray(test_NormDist_Angle_hog))\n",
    "\n",
    "print(\"Final accuracy of the linear model for eyeglasses detection with the landmark normalized distances, Angles and HOG features is: \",\n",
    "      svc_glasses_lin_NormDist_Angle_hog.score(np.asarray(test_NormDist_Angle_hog),\n",
    "                                               np.asarray(test_eyeglasses)))\n",
    "print(\"The confusion matrix is\")\n",
    "print(confusion_matrix( np.asarray(test_eyeglasses), pred))"
   ]
  },
  {
   "cell_type": "code",
   "execution_count": 53,
   "metadata": {},
   "outputs": [],
   "source": [
    "with open('task_3.csv', 'w') as csvfile:\n",
    "    filewriter = csv.writer(csvfile, delimiter=',',\n",
    "                            quotechar='|', quoting=csv.QUOTE_MINIMAL)\n",
    "    filewriter.writerow([svc_glasses_lin_NormDist_Angle_hog.score(np.asarray(test_NormDist_Angle_hog), np.asarray(test_eyeglasses))])\n",
    "    #filewriter.writerow(['', ''])\n",
    "    for i in range(0, len(pred)):\n",
    "        filewriter.writerow([testList[i].imageInfo.image[42:], pred[i]])\n",
    "        #filewriter.writerow(['', ''])"
   ]
  },
  {
   "cell_type": "code",
   "execution_count": 54,
   "metadata": {},
   "outputs": [
    {
     "data": {
      "image/png": "[encoded data removed]",
      "text/plain": [
       "<Figure size 432x288 with 1 Axes>"
      ]
     },
     "metadata": {
      "needs_background": "light"
     },
     "output_type": "display_data"
    }
   ],
   "source": [
    "glasses_plot = plot_learning_curve(svc_glasses_lin_NormDist_Angle_hog_plot, 'Task 3 Learning Curve',\n",
    "                                 np.asarray(train_NormDist_Angle_hog), np.asarray(train_eyeglasses),\n",
    "                                 ylim=None, cv=5,\n",
    "                                 n_jobs=None, train_sizes=np.linspace(.1, 1.0, 5))"
   ]
  },
  {
   "cell_type": "code",
   "execution_count": 112,
   "metadata": {},
   "outputs": [
    {
     "name": "stdout",
     "output_type": "stream",
     "text": [
      "Cross-validation mean score for rbf SVC with C =  1  and gamma =  0.05  is  0.926074893232\n",
      "Cross-validation mean score for rbf SVC with C =  1  and gamma =  0.1  is  0.933439690812\n",
      "Cross-validation mean score for rbf SVC with C =  1  and gamma =  0.3  is  0.936811576621\n",
      "Cross-validation mean score for rbf SVC with C =  1  and gamma =  0.4  is  0.93282431054\n",
      "Cross-validation mean score for rbf SVC with C =  3  and gamma =  0.05  is  0.942334943899\n",
      "Cross-validation mean score for rbf SVC with C =  3  and gamma =  0.1  is  0.946934768851\n",
      "Cross-validation mean score for rbf SVC with C =  3  and gamma =  0.3  is  0.944480776792\n",
      "Cross-validation mean score for rbf SVC with C =  3  and gamma =  0.4  is  0.940494919968\n",
      "Cross-validation mean score for rbf SVC with C =  5  and gamma =  0.05  is  0.948775733731\n",
      "Cross-validation mean score for rbf SVC with C =  5  and gamma =  0.1  is  0.952453898253\n",
      "Cross-validation mean score for rbf SVC with C =  5  and gamma =  0.3  is  0.948776203484\n",
      "Cross-validation mean score for rbf SVC with C =  5  and gamma =  0.4  is  0.939573259539\n",
      "Cross-validation mean score for rbf SVC with C =  6  and gamma =  0.05  is  0.951843224166\n",
      "Cross-validation mean score for rbf SVC with C =  6  and gamma =  0.1  is  0.953987642028\n",
      "Cross-validation mean score for rbf SVC with C =  6  and gamma =  0.3  is  0.949388289715\n",
      "Cross-validation mean score for rbf SVC with C =  6  and gamma =  0.4  is  0.940493506381\n",
      "6\n",
      "0.1\n",
      "0.953987642028\n"
     ]
    }
   ],
   "source": [
    "C_glasses_rbf_NormDist_Angle_hog, g_glasses_NormDist_Angle_hog = svc_rbf_params(np.asarray(train_NormDist_Angle_hog),\n",
    "                                                                                np.asarray(train_eyeglasses),\n",
    "                                                                                [1, 3, 5, 6],\n",
    "                                                                                [0.05, 0.1, 0.3, 0.4])"
   ]
  },
  {
   "cell_type": "code",
   "execution_count": 113,
   "metadata": {
    "scrolled": true
   },
   "outputs": [
    {
     "name": "stdout",
     "output_type": "stream",
     "text": [
      "The C coefficient used is:  6\n",
      "The gamma coefficient used is:  0.1\n",
      "Final accuracy of the rbf model for eyeglasses detection with the landmark normalized distances, Angles and HOG features is:  0.955004591368\n",
      "The confusion matrix is\n",
      "[[777   5]\n",
      " [ 44 263]]\n"
     ]
    }
   ],
   "source": [
    "print(\"The C coefficient used is: \", C_glasses_rbf_NormDist_Angle_hog)\n",
    "print(\"The gamma coefficient used is: \", g_glasses_NormDist_Angle_hog)\n",
    "\n",
    "svc_glasses_rbf_NormDist_Angle_hog = svm.SVC(kernel = 'rbf', C = C_glasses_rbf_NormDist_Angle_hog,\n",
    "                                             gamma = g_glasses_NormDist_Angle_hog)\n",
    "\n",
    "svc_glasses_rbf_NormDist_Angle_hog.fit(np.asarray(train_NormDist_Angle_hog), np.asarray(train_eyeglasses))\n",
    "\n",
    "pred = svc_glasses_rbf_NormDist_Angle_hog.predict(np.asarray(test_NormDist_Angle_hog))\n",
    "\n",
    "print(\"Final accuracy of the rbf model for eyeglasses detection with the landmark normalized distances, Angles and HOG features is: \",\n",
    "      svc_glasses_rbf_NormDist_Angle_hog.score(np.asarray(test_NormDist_Angle_hog),\n",
    "                                               np.asarray(test_eyeglasses)))\n",
    "print(\"The confusion matrix is\")\n",
    "print(confusion_matrix( np.asarray(test_eyeglasses), pred))"
   ]
  },
  {
   "cell_type": "code",
   "execution_count": 48,
   "metadata": {},
   "outputs": [
    {
     "name": "stderr",
     "output_type": "stream",
     "text": [
      "C:\\Users\\ching\\Anaconda3\\envs\\Assignment_1\\lib\\site-packages\\sklearn\\neural_network\\multilayer_perceptron.py:562: ConvergenceWarning: Stochastic Optimizer: Maximum iterations (100) reached and the optimization hasn't converged yet.\n",
      "  % self.max_iter, ConvergenceWarning)\n",
      "C:\\Users\\ching\\Anaconda3\\envs\\Assignment_1\\lib\\site-packages\\sklearn\\neural_network\\multilayer_perceptron.py:562: ConvergenceWarning: Stochastic Optimizer: Maximum iterations (100) reached and the optimization hasn't converged yet.\n",
      "  % self.max_iter, ConvergenceWarning)\n"
     ]
    },
    {
     "name": "stdout",
     "output_type": "stream",
     "text": [
      "Cross-validation mean score for MLP N(layers) =  1  N(nodes) =  100  and adam activation function is  0.841418166478\n"
     ]
    },
    {
     "name": "stderr",
     "output_type": "stream",
     "text": [
      "C:\\Users\\ching\\Anaconda3\\envs\\Assignment_1\\lib\\site-packages\\sklearn\\neural_network\\multilayer_perceptron.py:562: ConvergenceWarning: Stochastic Optimizer: Maximum iterations (100) reached and the optimization hasn't converged yet.\n",
      "  % self.max_iter, ConvergenceWarning)\n",
      "C:\\Users\\ching\\Anaconda3\\envs\\Assignment_1\\lib\\site-packages\\sklearn\\neural_network\\multilayer_perceptron.py:562: ConvergenceWarning: Stochastic Optimizer: Maximum iterations (100) reached and the optimization hasn't converged yet.\n",
      "  % self.max_iter, ConvergenceWarning)\n",
      "C:\\Users\\ching\\Anaconda3\\envs\\Assignment_1\\lib\\site-packages\\sklearn\\neural_network\\multilayer_perceptron.py:562: ConvergenceWarning: Stochastic Optimizer: Maximum iterations (100) reached and the optimization hasn't converged yet.\n",
      "  % self.max_iter, ConvergenceWarning)\n"
     ]
    },
    {
     "name": "stdout",
     "output_type": "stream",
     "text": [
      "Cross-validation mean score for MLP N(layers) =  1  N(nodes) =  200  and adam activation function is  0.862886515847\n"
     ]
    },
    {
     "name": "stderr",
     "output_type": "stream",
     "text": [
      "C:\\Users\\ching\\Anaconda3\\envs\\Assignment_1\\lib\\site-packages\\sklearn\\neural_network\\multilayer_perceptron.py:562: ConvergenceWarning: Stochastic Optimizer: Maximum iterations (100) reached and the optimization hasn't converged yet.\n",
      "  % self.max_iter, ConvergenceWarning)\n",
      "C:\\Users\\ching\\Anaconda3\\envs\\Assignment_1\\lib\\site-packages\\sklearn\\neural_network\\multilayer_perceptron.py:562: ConvergenceWarning: Stochastic Optimizer: Maximum iterations (100) reached and the optimization hasn't converged yet.\n",
      "  % self.max_iter, ConvergenceWarning)\n"
     ]
    },
    {
     "name": "stdout",
     "output_type": "stream",
     "text": [
      "Cross-validation mean score for MLP N(layers) =  1  N(nodes) =  300  and adam activation function is  0.848776460237\n"
     ]
    },
    {
     "name": "stderr",
     "output_type": "stream",
     "text": [
      "C:\\Users\\ching\\Anaconda3\\envs\\Assignment_1\\lib\\site-packages\\sklearn\\neural_network\\multilayer_perceptron.py:562: ConvergenceWarning: Stochastic Optimizer: Maximum iterations (100) reached and the optimization hasn't converged yet.\n",
      "  % self.max_iter, ConvergenceWarning)\n",
      "C:\\Users\\ching\\Anaconda3\\envs\\Assignment_1\\lib\\site-packages\\sklearn\\neural_network\\multilayer_perceptron.py:562: ConvergenceWarning: Stochastic Optimizer: Maximum iterations (100) reached and the optimization hasn't converged yet.\n",
      "  % self.max_iter, ConvergenceWarning)\n",
      "C:\\Users\\ching\\Anaconda3\\envs\\Assignment_1\\lib\\site-packages\\sklearn\\neural_network\\multilayer_perceptron.py:562: ConvergenceWarning: Stochastic Optimizer: Maximum iterations (100) reached and the optimization hasn't converged yet.\n",
      "  % self.max_iter, ConvergenceWarning)\n"
     ]
    },
    {
     "name": "stdout",
     "output_type": "stream",
     "text": [
      "Cross-validation mean score for MLP N(layers) =  2  N(nodes) =  100  and adam activation function is  0.857671414445\n"
     ]
    },
    {
     "name": "stderr",
     "output_type": "stream",
     "text": [
      "C:\\Users\\ching\\Anaconda3\\envs\\Assignment_1\\lib\\site-packages\\sklearn\\neural_network\\multilayer_perceptron.py:562: ConvergenceWarning: Stochastic Optimizer: Maximum iterations (100) reached and the optimization hasn't converged yet.\n",
      "  % self.max_iter, ConvergenceWarning)\n",
      "C:\\Users\\ching\\Anaconda3\\envs\\Assignment_1\\lib\\site-packages\\sklearn\\neural_network\\multilayer_perceptron.py:562: ConvergenceWarning: Stochastic Optimizer: Maximum iterations (100) reached and the optimization hasn't converged yet.\n",
      "  % self.max_iter, ConvergenceWarning)\n",
      "C:\\Users\\ching\\Anaconda3\\envs\\Assignment_1\\lib\\site-packages\\sklearn\\neural_network\\multilayer_perceptron.py:562: ConvergenceWarning: Stochastic Optimizer: Maximum iterations (100) reached and the optimization hasn't converged yet.\n",
      "  % self.max_iter, ConvergenceWarning)\n"
     ]
    },
    {
     "name": "stdout",
     "output_type": "stream",
     "text": [
      "Cross-validation mean score for MLP N(layers) =  2  N(nodes) =  200  and adam activation function is  0.847245729569\n"
     ]
    },
    {
     "name": "stderr",
     "output_type": "stream",
     "text": [
      "C:\\Users\\ching\\Anaconda3\\envs\\Assignment_1\\lib\\site-packages\\sklearn\\neural_network\\multilayer_perceptron.py:562: ConvergenceWarning: Stochastic Optimizer: Maximum iterations (100) reached and the optimization hasn't converged yet.\n",
      "  % self.max_iter, ConvergenceWarning)\n"
     ]
    },
    {
     "name": "stdout",
     "output_type": "stream",
     "text": [
      "Cross-validation mean score for MLP N(layers) =  2  N(nodes) =  300  and adam activation function is  0.846016853003\n"
     ]
    },
    {
     "name": "stderr",
     "output_type": "stream",
     "text": [
      "C:\\Users\\ching\\Anaconda3\\envs\\Assignment_1\\lib\\site-packages\\sklearn\\neural_network\\multilayer_perceptron.py:562: ConvergenceWarning: Stochastic Optimizer: Maximum iterations (100) reached and the optimization hasn't converged yet.\n",
      "  % self.max_iter, ConvergenceWarning)\n",
      "C:\\Users\\ching\\Anaconda3\\envs\\Assignment_1\\lib\\site-packages\\sklearn\\neural_network\\multilayer_perceptron.py:562: ConvergenceWarning: Stochastic Optimizer: Maximum iterations (100) reached and the optimization hasn't converged yet.\n",
      "  % self.max_iter, ConvergenceWarning)\n"
     ]
    },
    {
     "name": "stdout",
     "output_type": "stream",
     "text": [
      "Cross-validation mean score for MLP N(layers) =  3  N(nodes) =  100  and adam activation function is  0.850611586341\n",
      "Cross-validation mean score for MLP N(layers) =  3  N(nodes) =  200  and adam activation function is  0.861658204022\n"
     ]
    },
    {
     "name": "stderr",
     "output_type": "stream",
     "text": [
      "C:\\Users\\ching\\Anaconda3\\envs\\Assignment_1\\lib\\site-packages\\sklearn\\neural_network\\multilayer_perceptron.py:562: ConvergenceWarning: Stochastic Optimizer: Maximum iterations (100) reached and the optimization hasn't converged yet.\n",
      "  % self.max_iter, ConvergenceWarning)\n"
     ]
    },
    {
     "name": "stdout",
     "output_type": "stream",
     "text": [
      "Cross-validation mean score for MLP N(layers) =  3  N(nodes) =  300  and adam activation function is  0.799409054945\n",
      "200\n",
      "1\n",
      "0.862886515847\n"
     ]
    }
   ],
   "source": [
    "n_eyeglasses = mlp_params([100, 200, 300], np.asarray(train_img_toProcess), np.asarray(train_eyeglasses))"
   ]
  },
  {
   "cell_type": "code",
   "execution_count": 49,
   "metadata": {},
   "outputs": [],
   "source": [
    "mlp_eyeglasses = MLPClassifier(hidden_layer_sizes = n_eyeglasses,\n",
    "                    max_iter = 100,\n",
    "                    activation = 'relu',\n",
    "                    solver = 'adam',\n",
    "                    alpha = 0.0001,\n",
    "                    learning_rate = 'adaptive')"
   ]
  },
  {
   "cell_type": "code",
   "execution_count": 50,
   "metadata": {},
   "outputs": [
    {
     "name": "stdout",
     "output_type": "stream",
     "text": [
      "done\n"
     ]
    },
    {
     "name": "stderr",
     "output_type": "stream",
     "text": [
      "C:\\Users\\ching\\Anaconda3\\envs\\Assignment_1\\lib\\site-packages\\sklearn\\neural_network\\multilayer_perceptron.py:562: ConvergenceWarning: Stochastic Optimizer: Maximum iterations (100) reached and the optimization hasn't converged yet.\n",
      "  % self.max_iter, ConvergenceWarning)\n"
     ]
    }
   ],
   "source": [
    "mlp_eyeglasses.fit(np.asarray(train_img_toProcess), np.asarray(train_eyeglasses))\n",
    "print('done')"
   ]
  },
  {
   "cell_type": "code",
   "execution_count": 51,
   "metadata": {},
   "outputs": [
    {
     "name": "stdout",
     "output_type": "stream",
     "text": [
      "Final accuracy of the MLP model for eyeglasses detection is: 0.877869605142\n",
      "The confusion matrix is\n",
      "[[723  47]\n",
      " [ 86 233]]\n"
     ]
    }
   ],
   "source": [
    "pred = mlp_eyeglasses.predict(np.asarray(test_img_toProcess))\n",
    "\n",
    "print(\"Final accuracy of the MLP model for eyeglasses detection is:\",\n",
    "mlp_eyeglasses.score(np.asarray(test_img_toProcess),\n",
    "                     np.asarray(test_eyeglasses)))\n",
    "print(\"The confusion matrix is\")\n",
    "print(confusion_matrix( np.asarray(test_eyeglasses), pred))"
   ]
  },
  {
   "cell_type": "markdown",
   "metadata": {},
   "source": [
    "# Task 4\n",
    "The best model for human recognition is the MLP classifier with 3 layers with 300 nodes in each"
   ]
  },
  {
   "cell_type": "code",
   "execution_count": 114,
   "metadata": {
    "scrolled": true
   },
   "outputs": [
    {
     "name": "stdout",
     "output_type": "stream",
     "text": [
      "Cross-validation mean score for linear SVC with C =  0.001  is  0.976380346451\n",
      "Cross-validation mean score for linear SVC with C =  0.01  is  0.983435098638\n",
      "Cross-validation mean score for linear SVC with C =  0.1  is  0.984663504647\n",
      "Cross-validation mean score for linear SVC with C =  0.5  is  0.978527588601\n",
      "0.1\n",
      "0.984663504647\n"
     ]
    }
   ],
   "source": [
    "C_human_lin_landmarks = svc_lin_params(np.asarray(train_landmarks_reshape),\n",
    "                                       np.asarray(train_human),\n",
    "                                       [0.001, 0.01, 0.1, 0.5])"
   ]
  },
  {
   "cell_type": "code",
   "execution_count": 115,
   "metadata": {},
   "outputs": [
    {
     "name": "stdout",
     "output_type": "stream",
     "text": [
      "The C coefficient used is:  0.1\n",
      "Final accuracy of the linear model for human detection, with the landmarks features is:  0.987144168962\n",
      "The confusion matrix is\n",
      "[[608  10]\n",
      " [  4 467]]\n"
     ]
    }
   ],
   "source": [
    "from sklearn.metrics import confusion_matrix\n",
    "print(\"The C coefficient used is: \", C_human_lin_landmarks)\n",
    "\n",
    "svc_human_lin_landmarks = svm.SVC(kernel = 'linear', C = C_human_lin_landmarks)\n",
    "\n",
    "svc_human_lin_landmarks.fit(np.asarray(train_landmarks_reshape), np.asarray(train_human))\n",
    "\n",
    "pred = svc_human_lin_landmarks.predict(np.asarray(test_landmarks_reshape))\n",
    "\n",
    "print(\"Final accuracy of the linear model for human detection, with the landmarks features is: \",\n",
    "      svc_human_lin_landmarks.score(np.asarray(test_landmarks_reshape),\n",
    "                                    np.asarray(test_human)))\n",
    "print(\"The confusion matrix is\")\n",
    "print(confusion_matrix( np.asarray(test_human), pred))\n"
   ]
  },
  {
   "cell_type": "code",
   "execution_count": 116,
   "metadata": {},
   "outputs": [
    {
     "name": "stdout",
     "output_type": "stream",
     "text": [
      "Cross-validation mean score for linear SVC with C =  0.1  is  0.886817715155\n",
      "Cross-validation mean score for linear SVC with C =  0.5  is  0.922093343556\n",
      "Cross-validation mean score for linear SVC with C =  1  is  0.930371324371\n",
      "Cross-validation mean score for linear SVC with C =  3  is  0.942335936802\n",
      "Cross-validation mean score for linear SVC with C =  7  is  0.954301491624\n",
      "Cross-validation mean score for linear SVC with C =  10  is  0.95736850942\n",
      "Cross-validation mean score for linear SVC with C =  15  is  0.962275549705\n",
      "15\n",
      "0.962275549705\n"
     ]
    }
   ],
   "source": [
    "C_human_lin_NormDist_Angle = svc_lin_params(np.asarray(train_NormDist_Angle),\n",
    "                                            np.asarray(train_human),\n",
    "                                            [0.1, 0.5, 1, 3, 7, 10, 15])"
   ]
  },
  {
   "cell_type": "code",
   "execution_count": 117,
   "metadata": {},
   "outputs": [
    {
     "name": "stdout",
     "output_type": "stream",
     "text": [
      "The C coefficient used is:  15\n",
      "Final accuracy of the linear model for human detection, with the landmark normalized disntances and angles features is:  0.969696969697\n",
      "The confusion matrix is\n",
      "[[591  27]\n",
      " [  6 465]]\n"
     ]
    }
   ],
   "source": [
    "print(\"The C coefficient used is: \", C_human_lin_NormDist_Angle)\n",
    "\n",
    "svc_human_lin_NormDist_Angle = svm.SVC(kernel = 'linear', C = C_human_lin_NormDist_Angle)\n",
    "\n",
    "svc_human_lin_NormDist_Angle.fit(np.asarray(train_NormDist_Angle), np.asarray(train_human))\n",
    "\n",
    "pred = svc_human_lin_NormDist_Angle.predict(np.asarray(test_NormDist_Angle))\n",
    "\n",
    "print(\"Final accuracy of the linear model for human detection, with the landmark normalized disntances and angles features is: \",\n",
    "      svc_human_lin_NormDist_Angle.score(np.asarray(test_NormDist_Angle),\n",
    "                                         np.asarray(test_human)))\n",
    "print(\"The confusion matrix is\")\n",
    "print(confusion_matrix( np.asarray(test_human), pred))"
   ]
  },
  {
   "cell_type": "code",
   "execution_count": 61,
   "metadata": {},
   "outputs": [
    {
     "name": "stderr",
     "output_type": "stream",
     "text": [
      "C:\\Users\\ching\\Anaconda3\\envs\\Assignment_1\\lib\\site-packages\\sklearn\\neural_network\\multilayer_perceptron.py:562: ConvergenceWarning: Stochastic Optimizer: Maximum iterations (100) reached and the optimization hasn't converged yet.\n",
      "  % self.max_iter, ConvergenceWarning)\n",
      "C:\\Users\\ching\\Anaconda3\\envs\\Assignment_1\\lib\\site-packages\\sklearn\\neural_network\\multilayer_perceptron.py:562: ConvergenceWarning: Stochastic Optimizer: Maximum iterations (100) reached and the optimization hasn't converged yet.\n",
      "  % self.max_iter, ConvergenceWarning)\n",
      "C:\\Users\\ching\\Anaconda3\\envs\\Assignment_1\\lib\\site-packages\\sklearn\\neural_network\\multilayer_perceptron.py:562: ConvergenceWarning: Stochastic Optimizer: Maximum iterations (100) reached and the optimization hasn't converged yet.\n",
      "  % self.max_iter, ConvergenceWarning)\n"
     ]
    },
    {
     "name": "stdout",
     "output_type": "stream",
     "text": [
      "Cross-validation mean score for MLP N(layers) =  1  N(nodes) =  100  and adam activation function is  0.990488909652\n"
     ]
    },
    {
     "name": "stderr",
     "output_type": "stream",
     "text": [
      "C:\\Users\\ching\\Anaconda3\\envs\\Assignment_1\\lib\\site-packages\\sklearn\\neural_network\\multilayer_perceptron.py:562: ConvergenceWarning: Stochastic Optimizer: Maximum iterations (100) reached and the optimization hasn't converged yet.\n",
      "  % self.max_iter, ConvergenceWarning)\n",
      "C:\\Users\\ching\\Anaconda3\\envs\\Assignment_1\\lib\\site-packages\\sklearn\\neural_network\\multilayer_perceptron.py:562: ConvergenceWarning: Stochastic Optimizer: Maximum iterations (100) reached and the optimization hasn't converged yet.\n",
      "  % self.max_iter, ConvergenceWarning)\n"
     ]
    },
    {
     "name": "stdout",
     "output_type": "stream",
     "text": [
      "Cross-validation mean score for MLP N(layers) =  1  N(nodes) =  200  and adam activation function is  0.990181972881\n"
     ]
    },
    {
     "name": "stderr",
     "output_type": "stream",
     "text": [
      "C:\\Users\\ching\\Anaconda3\\envs\\Assignment_1\\lib\\site-packages\\sklearn\\neural_network\\multilayer_perceptron.py:562: ConvergenceWarning: Stochastic Optimizer: Maximum iterations (100) reached and the optimization hasn't converged yet.\n",
      "  % self.max_iter, ConvergenceWarning)\n"
     ]
    },
    {
     "name": "stdout",
     "output_type": "stream",
     "text": [
      "Cross-validation mean score for MLP N(layers) =  1  N(nodes) =  300  and adam activation function is  0.992329966056\n",
      "Cross-validation mean score for MLP N(layers) =  2  N(nodes) =  100  and adam activation function is  0.991717220958\n",
      "Cross-validation mean score for MLP N(layers) =  2  N(nodes) =  200  and adam activation function is  0.988646724804\n",
      "Cross-validation mean score for MLP N(layers) =  2  N(nodes) =  300  and adam activation function is  0.991409155743\n",
      "Cross-validation mean score for MLP N(layers) =  3  N(nodes) =  100  and adam activation function is  0.992023593507\n",
      "Cross-validation mean score for MLP N(layers) =  3  N(nodes) =  200  and adam activation function is  0.990796410645\n",
      "Cross-validation mean score for MLP N(layers) =  3  N(nodes) =  300  and adam activation function is  0.9923310945\n",
      "(300, 300, 300)\n",
      "3\n",
      "0.9923310945\n"
     ]
    }
   ],
   "source": [
    "n_human = mlp_params([100, 200, 300], np.asarray(train_img_toProcess), np.asarray(train_human))"
   ]
  },
  {
   "cell_type": "code",
   "execution_count": 62,
   "metadata": {},
   "outputs": [],
   "source": [
    "mlp_human = MLPClassifier(hidden_layer_sizes = n_human,\n",
    "                    max_iter = 100,\n",
    "                    activation = 'relu',\n",
    "                    solver = 'adam',\n",
    "                    alpha = 0.0001,\n",
    "                    learning_rate = 'adaptive')\n",
    "mlp_human_plot = MLPClassifier(hidden_layer_sizes = n_human,\n",
    "                    max_iter = 100,\n",
    "                    activation = 'relu',\n",
    "                    solver = 'adam',\n",
    "                    alpha = 0.0001,\n",
    "                    learning_rate = 'adaptive')"
   ]
  },
  {
   "cell_type": "code",
   "execution_count": 63,
   "metadata": {},
   "outputs": [
    {
     "name": "stdout",
     "output_type": "stream",
     "text": [
      "done\n"
     ]
    }
   ],
   "source": [
    "mlp_human.fit(np.asarray(train_img_toProcess), np.asarray(train_human))\n",
    "print('done')\n"
   ]
  },
  {
   "cell_type": "code",
   "execution_count": 64,
   "metadata": {},
   "outputs": [
    {
     "name": "stdout",
     "output_type": "stream",
     "text": [
      "Final accuracy of the MLP model for human detection is: 0.997245179063\n",
      "The confusion matrix is\n",
      "[[570   3]\n",
      " [  0 516]]\n"
     ]
    }
   ],
   "source": [
    "pred = mlp_human.predict(np.asarray(test_img_toProcess))\n",
    "\n",
    "print(\"Final accuracy of the MLP model for human detection is:\",\n",
    "mlp_human.score(np.asarray(test_img_toProcess),\n",
    "                     np.asarray(test_human)))\n",
    "print(\"The confusion matrix is\")\n",
    "print(confusion_matrix( np.asarray(test_human), pred))"
   ]
  },
  {
   "cell_type": "code",
   "execution_count": 65,
   "metadata": {},
   "outputs": [],
   "source": [
    "with open('task_4.csv', 'w') as csvfile:\n",
    "    filewriter = csv.writer(csvfile, delimiter=',',\n",
    "                            quotechar='|', quoting=csv.QUOTE_MINIMAL)\n",
    "    filewriter.writerow([mlp_human.score(np.asarray(test_img_toProcess), np.asarray(test_human))])\n",
    "    #filewriter.writerow(['', ''])\n",
    "    for i in range(0, len(pred)):\n",
    "        filewriter.writerow([testList[i].imageInfo.image[42:], pred[i]])\n",
    "        #filewriter.writerow(['', ''])"
   ]
  },
  {
   "cell_type": "code",
   "execution_count": 66,
   "metadata": {},
   "outputs": [
    {
     "data": {
      "image/png": "[encoded data removed]",
      "text/plain": [
       "<Figure size 432x288 with 1 Axes>"
      ]
     },
     "metadata": {
      "needs_background": "light"
     },
     "output_type": "display_data"
    }
   ],
   "source": [
    "human_plot = plot_learning_curve(mlp_human_plot, 'Task 4 Learning Curve',\n",
    "                                 np.asarray(train_img_toProcess), np.asarray(train_human),\n",
    "                                 ylim=None, cv=3,\n",
    "                                 n_jobs=None, train_sizes=np.linspace(.1, 1.0, 5))"
   ]
  },
  {
   "cell_type": "markdown",
   "metadata": {},
   "source": [
    "# Task 5\n",
    "For this tasks there were images, which were labeled with -1 for hair color. The first 4 blocks remove this noise data from the training and testing sets. The process is similar to the removal of the noise data from the list of all images.\n",
    "\n",
    "The best model for hair color detection is the MLP classifier with 3 layers with 300 nodes in each"
   ]
  },
  {
   "cell_type": "code",
   "execution_count": 67,
   "metadata": {},
   "outputs": [],
   "source": [
    "j=0\n",
    "removeIndex = []\n",
    "for i in range (0,len(train_hair_color)):\n",
    "    if (train_hair_color[i] == -1):\n",
    "        removeIndex.append(i)"
   ]
  },
  {
   "cell_type": "code",
   "execution_count": 68,
   "metadata": {},
   "outputs": [
    {
     "name": "stdout",
     "output_type": "stream",
     "text": [
      "done\n"
     ]
    }
   ],
   "source": [
    "removeIndex.reverse()\n",
    "for i in range (0 , len(removeIndex)):\n",
    "    removeElement = train_hair_color.pop(removeIndex[i])\n",
    "    removeElement = train_img_toProcess.pop(removeIndex[i])\n",
    "print(\"done\")"
   ]
  },
  {
   "cell_type": "code",
   "execution_count": 69,
   "metadata": {},
   "outputs": [],
   "source": [
    "j=0\n",
    "removeIndex = []\n",
    "for i in range (0,len(test_hair_color)):\n",
    "    if (test_hair_color[i] == -1):\n",
    "        removeIndex.append(i)"
   ]
  },
  {
   "cell_type": "code",
   "execution_count": 70,
   "metadata": {},
   "outputs": [
    {
     "name": "stdout",
     "output_type": "stream",
     "text": [
      "done\n"
     ]
    }
   ],
   "source": [
    "removeIndex.reverse()\n",
    "for i in range (0 , len(removeIndex)):\n",
    "    removeElement = test_hair_color.pop(removeIndex[i])\n",
    "    removeElement = test_img_toProcess.pop(removeIndex[i])\n",
    "print(\"done\")"
   ]
  },
  {
   "cell_type": "code",
   "execution_count": 71,
   "metadata": {},
   "outputs": [
    {
     "name": "stderr",
     "output_type": "stream",
     "text": [
      "C:\\Users\\ching\\Anaconda3\\envs\\Assignment_1\\lib\\site-packages\\sklearn\\neural_network\\multilayer_perceptron.py:562: ConvergenceWarning: Stochastic Optimizer: Maximum iterations (100) reached and the optimization hasn't converged yet.\n",
      "  % self.max_iter, ConvergenceWarning)\n",
      "C:\\Users\\ching\\Anaconda3\\envs\\Assignment_1\\lib\\site-packages\\sklearn\\neural_network\\multilayer_perceptron.py:562: ConvergenceWarning: Stochastic Optimizer: Maximum iterations (100) reached and the optimization hasn't converged yet.\n",
      "  % self.max_iter, ConvergenceWarning)\n",
      "C:\\Users\\ching\\Anaconda3\\envs\\Assignment_1\\lib\\site-packages\\sklearn\\neural_network\\multilayer_perceptron.py:562: ConvergenceWarning: Stochastic Optimizer: Maximum iterations (100) reached and the optimization hasn't converged yet.\n",
      "  % self.max_iter, ConvergenceWarning)\n"
     ]
    },
    {
     "name": "stdout",
     "output_type": "stream",
     "text": [
      "Cross-validation mean score for MLP N(layers) =  1  N(nodes) =  100  and adam activation function is  0.825051909616\n"
     ]
    },
    {
     "name": "stderr",
     "output_type": "stream",
     "text": [
      "C:\\Users\\ching\\Anaconda3\\envs\\Assignment_1\\lib\\site-packages\\sklearn\\neural_network\\multilayer_perceptron.py:562: ConvergenceWarning: Stochastic Optimizer: Maximum iterations (100) reached and the optimization hasn't converged yet.\n",
      "  % self.max_iter, ConvergenceWarning)\n",
      "C:\\Users\\ching\\Anaconda3\\envs\\Assignment_1\\lib\\site-packages\\sklearn\\neural_network\\multilayer_perceptron.py:562: ConvergenceWarning: Stochastic Optimizer: Maximum iterations (100) reached and the optimization hasn't converged yet.\n",
      "  % self.max_iter, ConvergenceWarning)\n",
      "C:\\Users\\ching\\Anaconda3\\envs\\Assignment_1\\lib\\site-packages\\sklearn\\neural_network\\multilayer_perceptron.py:562: ConvergenceWarning: Stochastic Optimizer: Maximum iterations (100) reached and the optimization hasn't converged yet.\n",
      "  % self.max_iter, ConvergenceWarning)\n"
     ]
    },
    {
     "name": "stdout",
     "output_type": "stream",
     "text": [
      "Cross-validation mean score for MLP N(layers) =  1  N(nodes) =  200  and adam activation function is  0.839919200462\n"
     ]
    },
    {
     "name": "stderr",
     "output_type": "stream",
     "text": [
      "C:\\Users\\ching\\Anaconda3\\envs\\Assignment_1\\lib\\site-packages\\sklearn\\neural_network\\multilayer_perceptron.py:562: ConvergenceWarning: Stochastic Optimizer: Maximum iterations (100) reached and the optimization hasn't converged yet.\n",
      "  % self.max_iter, ConvergenceWarning)\n",
      "C:\\Users\\ching\\Anaconda3\\envs\\Assignment_1\\lib\\site-packages\\sklearn\\neural_network\\multilayer_perceptron.py:562: ConvergenceWarning: Stochastic Optimizer: Maximum iterations (100) reached and the optimization hasn't converged yet.\n",
      "  % self.max_iter, ConvergenceWarning)\n",
      "C:\\Users\\ching\\Anaconda3\\envs\\Assignment_1\\lib\\site-packages\\sklearn\\neural_network\\multilayer_perceptron.py:562: ConvergenceWarning: Stochastic Optimizer: Maximum iterations (100) reached and the optimization hasn't converged yet.\n",
      "  % self.max_iter, ConvergenceWarning)\n"
     ]
    },
    {
     "name": "stdout",
     "output_type": "stream",
     "text": [
      "Cross-validation mean score for MLP N(layers) =  1  N(nodes) =  300  and adam activation function is  0.843565697105\n"
     ]
    },
    {
     "name": "stderr",
     "output_type": "stream",
     "text": [
      "C:\\Users\\ching\\Anaconda3\\envs\\Assignment_1\\lib\\site-packages\\sklearn\\neural_network\\multilayer_perceptron.py:562: ConvergenceWarning: Stochastic Optimizer: Maximum iterations (100) reached and the optimization hasn't converged yet.\n",
      "  % self.max_iter, ConvergenceWarning)\n",
      "C:\\Users\\ching\\Anaconda3\\envs\\Assignment_1\\lib\\site-packages\\sklearn\\neural_network\\multilayer_perceptron.py:562: ConvergenceWarning: Stochastic Optimizer: Maximum iterations (100) reached and the optimization hasn't converged yet.\n",
      "  % self.max_iter, ConvergenceWarning)\n"
     ]
    },
    {
     "name": "stdout",
     "output_type": "stream",
     "text": [
      "Cross-validation mean score for MLP N(layers) =  2  N(nodes) =  100  and adam activation function is  0.835572966018\n"
     ]
    },
    {
     "name": "stderr",
     "output_type": "stream",
     "text": [
      "C:\\Users\\ching\\Anaconda3\\envs\\Assignment_1\\lib\\site-packages\\sklearn\\neural_network\\multilayer_perceptron.py:562: ConvergenceWarning: Stochastic Optimizer: Maximum iterations (100) reached and the optimization hasn't converged yet.\n",
      "  % self.max_iter, ConvergenceWarning)\n",
      "C:\\Users\\ching\\Anaconda3\\envs\\Assignment_1\\lib\\site-packages\\sklearn\\neural_network\\multilayer_perceptron.py:562: ConvergenceWarning: Stochastic Optimizer: Maximum iterations (100) reached and the optimization hasn't converged yet.\n",
      "  % self.max_iter, ConvergenceWarning)\n",
      "C:\\Users\\ching\\Anaconda3\\envs\\Assignment_1\\lib\\site-packages\\sklearn\\neural_network\\multilayer_perceptron.py:562: ConvergenceWarning: Stochastic Optimizer: Maximum iterations (100) reached and the optimization hasn't converged yet.\n",
      "  % self.max_iter, ConvergenceWarning)\n"
     ]
    },
    {
     "name": "stdout",
     "output_type": "stream",
     "text": [
      "Cross-validation mean score for MLP N(layers) =  2  N(nodes) =  200  and adam activation function is  0.834843985535\n"
     ]
    },
    {
     "name": "stderr",
     "output_type": "stream",
     "text": [
      "C:\\Users\\ching\\Anaconda3\\envs\\Assignment_1\\lib\\site-packages\\sklearn\\neural_network\\multilayer_perceptron.py:562: ConvergenceWarning: Stochastic Optimizer: Maximum iterations (100) reached and the optimization hasn't converged yet.\n",
      "  % self.max_iter, ConvergenceWarning)\n"
     ]
    },
    {
     "name": "stdout",
     "output_type": "stream",
     "text": [
      "Cross-validation mean score for MLP N(layers) =  2  N(nodes) =  300  and adam activation function is  0.846096411177\n"
     ]
    },
    {
     "name": "stderr",
     "output_type": "stream",
     "text": [
      "C:\\Users\\ching\\Anaconda3\\envs\\Assignment_1\\lib\\site-packages\\sklearn\\neural_network\\multilayer_perceptron.py:562: ConvergenceWarning: Stochastic Optimizer: Maximum iterations (100) reached and the optimization hasn't converged yet.\n",
      "  % self.max_iter, ConvergenceWarning)\n",
      "C:\\Users\\ching\\Anaconda3\\envs\\Assignment_1\\lib\\site-packages\\sklearn\\neural_network\\multilayer_perceptron.py:562: ConvergenceWarning: Stochastic Optimizer: Maximum iterations (100) reached and the optimization hasn't converged yet.\n",
      "  % self.max_iter, ConvergenceWarning)\n",
      "C:\\Users\\ching\\Anaconda3\\envs\\Assignment_1\\lib\\site-packages\\sklearn\\neural_network\\multilayer_perceptron.py:562: ConvergenceWarning: Stochastic Optimizer: Maximum iterations (100) reached and the optimization hasn't converged yet.\n",
      "  % self.max_iter, ConvergenceWarning)\n"
     ]
    },
    {
     "name": "stdout",
     "output_type": "stream",
     "text": [
      "Cross-validation mean score for MLP N(layers) =  3  N(nodes) =  100  and adam activation function is  0.827208824182\n"
     ]
    },
    {
     "name": "stderr",
     "output_type": "stream",
     "text": [
      "C:\\Users\\ching\\Anaconda3\\envs\\Assignment_1\\lib\\site-packages\\sklearn\\neural_network\\multilayer_perceptron.py:562: ConvergenceWarning: Stochastic Optimizer: Maximum iterations (100) reached and the optimization hasn't converged yet.\n",
      "  % self.max_iter, ConvergenceWarning)\n"
     ]
    },
    {
     "name": "stdout",
     "output_type": "stream",
     "text": [
      "Cross-validation mean score for MLP N(layers) =  3  N(nodes) =  200  and adam activation function is  0.840295355152\n"
     ]
    },
    {
     "name": "stderr",
     "output_type": "stream",
     "text": [
      "C:\\Users\\ching\\Anaconda3\\envs\\Assignment_1\\lib\\site-packages\\sklearn\\neural_network\\multilayer_perceptron.py:562: ConvergenceWarning: Stochastic Optimizer: Maximum iterations (100) reached and the optimization hasn't converged yet.\n",
      "  % self.max_iter, ConvergenceWarning)\n"
     ]
    },
    {
     "name": "stdout",
     "output_type": "stream",
     "text": [
      "Cross-validation mean score for MLP N(layers) =  3  N(nodes) =  300  and adam activation function is  0.852265704994\n",
      "(300, 300, 300)\n",
      "3\n",
      "0.852265704994\n"
     ]
    }
   ],
   "source": [
    "n_hair_color = mlp_params([100, 200, 300], np.asarray(train_img_toProcess), np.asarray(train_hair_color))"
   ]
  },
  {
   "cell_type": "code",
   "execution_count": 72,
   "metadata": {},
   "outputs": [],
   "source": [
    "mlp_hair_color = MLPClassifier(hidden_layer_sizes = n_hair_color,\n",
    "                    max_iter = 100,\n",
    "                    activation = 'relu',\n",
    "                    solver = 'adam',\n",
    "                    alpha = 0.0001,\n",
    "                    learning_rate = 'adaptive')\n",
    "mlp_hair_color_plot = MLPClassifier(hidden_layer_sizes = n_hair_color,\n",
    "                    max_iter = 100,\n",
    "                    activation = 'relu',\n",
    "                    solver = 'adam',\n",
    "                    alpha = 0.0001,\n",
    "                    learning_rate = 'adaptive')"
   ]
  },
  {
   "cell_type": "code",
   "execution_count": 73,
   "metadata": {},
   "outputs": [
    {
     "name": "stdout",
     "output_type": "stream",
     "text": [
      "done\n"
     ]
    }
   ],
   "source": [
    "mlp_hair_color.fit(np.asarray(train_img_toProcess), np.asarray(train_hair_color))\n",
    "print('done')"
   ]
  },
  {
   "cell_type": "code",
   "execution_count": 74,
   "metadata": {},
   "outputs": [
    {
     "name": "stdout",
     "output_type": "stream",
     "text": [
      "Final accuracy of the MLP model for hair color detection is: 0.84903640257\n",
      "The confusion matrix is\n",
      "[[  3   6   2   5   4   5]\n",
      " [  5 216   1  17   0   1]\n",
      " [  0   3 107   6   0   0]\n",
      " [  0   6   5 207   6   3]\n",
      " [  1   0   1  43 149   0]\n",
      " [  3  10   0   6   2 111]]\n"
     ]
    }
   ],
   "source": [
    "pred = mlp_hair_color.predict(np.asarray(test_img_toProcess))\n",
    "\n",
    "print(\"Final accuracy of the MLP model for hair color detection is:\",\n",
    "mlp_hair_color.score(np.asarray(test_img_toProcess),\n",
    "                     np.asarray(test_hair_color)))\n",
    "print(\"The confusion matrix is\")\n",
    "print(confusion_matrix( np.asarray(test_hair_color), pred))"
   ]
  },
  {
   "cell_type": "code",
   "execution_count": null,
   "metadata": {},
   "outputs": [],
   "source": []
  },
  {
   "cell_type": "code",
   "execution_count": 77,
   "metadata": {},
   "outputs": [],
   "source": [
    "with open('task_5.csv', 'w') as csvfile:\n",
    "    filewriter = csv.writer(csvfile, delimiter=',', quotechar='|', quoting=csv.QUOTE_MINIMAL)\n",
    "    filewriter.writerow([mlp_hair_color.score(np.asarray(test_img_toProcess), np.asarray(test_hair_color))])\n",
    "    #filewriter.writerow(['', ''])\n",
    "    for i in range(0, len(pred)):\n",
    "        filewriter.writerow([testList[i].imageInfo.image[42:], pred[i]])\n",
    "        #filewriter.writerow(['', ''])"
   ]
  },
  {
   "cell_type": "code",
   "execution_count": 78,
   "metadata": {},
   "outputs": [
    {
     "name": "stderr",
     "output_type": "stream",
     "text": [
      "C:\\Users\\ching\\Anaconda3\\envs\\Assignment_1\\lib\\site-packages\\sklearn\\neural_network\\multilayer_perceptron.py:562: ConvergenceWarning: Stochastic Optimizer: Maximum iterations (100) reached and the optimization hasn't converged yet.\n",
      "  % self.max_iter, ConvergenceWarning)\n",
      "C:\\Users\\ching\\Anaconda3\\envs\\Assignment_1\\lib\\site-packages\\sklearn\\neural_network\\multilayer_perceptron.py:562: ConvergenceWarning: Stochastic Optimizer: Maximum iterations (100) reached and the optimization hasn't converged yet.\n",
      "  % self.max_iter, ConvergenceWarning)\n",
      "C:\\Users\\ching\\Anaconda3\\envs\\Assignment_1\\lib\\site-packages\\sklearn\\neural_network\\multilayer_perceptron.py:562: ConvergenceWarning: Stochastic Optimizer: Maximum iterations (100) reached and the optimization hasn't converged yet.\n",
      "  % self.max_iter, ConvergenceWarning)\n",
      "C:\\Users\\ching\\Anaconda3\\envs\\Assignment_1\\lib\\site-packages\\sklearn\\neural_network\\multilayer_perceptron.py:562: ConvergenceWarning: Stochastic Optimizer: Maximum iterations (100) reached and the optimization hasn't converged yet.\n",
      "  % self.max_iter, ConvergenceWarning)\n",
      "C:\\Users\\ching\\Anaconda3\\envs\\Assignment_1\\lib\\site-packages\\sklearn\\neural_network\\multilayer_perceptron.py:562: ConvergenceWarning: Stochastic Optimizer: Maximum iterations (100) reached and the optimization hasn't converged yet.\n",
      "  % self.max_iter, ConvergenceWarning)\n",
      "C:\\Users\\ching\\Anaconda3\\envs\\Assignment_1\\lib\\site-packages\\sklearn\\neural_network\\multilayer_perceptron.py:562: ConvergenceWarning: Stochastic Optimizer: Maximum iterations (100) reached and the optimization hasn't converged yet.\n",
      "  % self.max_iter, ConvergenceWarning)\n",
      "C:\\Users\\ching\\Anaconda3\\envs\\Assignment_1\\lib\\site-packages\\sklearn\\neural_network\\multilayer_perceptron.py:562: ConvergenceWarning: Stochastic Optimizer: Maximum iterations (100) reached and the optimization hasn't converged yet.\n",
      "  % self.max_iter, ConvergenceWarning)\n"
     ]
    },
    {
     "data": {
      "image/png": "[encoded data removed]",
      "text/plain": [
       "<Figure size 432x288 with 1 Axes>"
      ]
     },
     "metadata": {
      "needs_background": "light"
     },
     "output_type": "display_data"
    }
   ],
   "source": [
    "hair_plot = plot_learning_curve(mlp_hair_color_plot, 'Task 5 Learning Curve',\n",
    "                                 np.asarray(train_img_toProcess), np.asarray(train_hair_color),\n",
    "                                 ylim=None, cv=3,\n",
    "                                 n_jobs=None, train_sizes=np.linspace(.1, 1.0, 5))"
   ]
  },
  {
   "cell_type": "markdown",
   "metadata": {},
   "source": [
    "# Additional data evaluation\n",
    "\n",
    "Additional data evaluation from the testing_dataset includes: the extraction of the features from the provided images, application of the models chosen in the previous tasks to assess the new images.\n",
    "\n",
    "The defined function to read and extract the landmarks is changes from the original in a way that the images are assessd not in a numerical order, and the location of the images is changed."
   ]
  },
  {
   "cell_type": "code",
   "execution_count": 85,
   "metadata": {},
   "outputs": [],
   "source": [
    "# This block is based on the landmarks.py code from the Applied Machine Learning Systems\n",
    "# Laboratory Exercise 2. The difference is in the image_path definition. In this version\n",
    "# The image paths are extracted in numerical order from 1.png to 5000.png\n",
    "\n",
    "\n",
    "#Definition of the folder, where the images are located\n",
    "basedir = './dataset'\n",
    "images_dir = \"C:/Users/ching/Desktop/Assignment/testing_dataset\"\n",
    "#labels_filename = 'attribute_list.csv'\n",
    "\n",
    "detector = dlib.get_frontal_face_detector()\n",
    "predictor = dlib.shape_predictor('shape_predictor_68_face_landmarks.dat')\n",
    "\n",
    "\n",
    "def extract_features_labels_test():\n",
    "\n",
    "#     This funtion extracts the landmarks features for all images in the folder 'dataset/celeba'.\n",
    "#     It also extract the gender label for each image.\n",
    "#     :return:\n",
    "#         landmark_features:  an array containing 68 landmark points for each image in which a face was detected\n",
    "#         gender_labels:      an array containing the gender label (male=0 and female=1) for each image in\n",
    "#                             which a face was detected\n",
    "  \n",
    "    image_paths = []\n",
    "    # Images path extraction in numerical order\n",
    "#     for i in range (1, 5001):\n",
    "#             imgs_path = os.path.join(imgs_dir + str(i) + \".png\")\n",
    "#             image_paths.extend(glob.glob(imgs_path))\n",
    "    image_paths = [os.path.join(images_dir, l) for l in os.listdir(images_dir)]\n",
    "\n",
    "    target_size = None\n",
    "    # Extraction of the labels from the attribute_list.csv\n",
    "    labels_file = open(labels_filename, 'r')\n",
    "    lines = labels_file.readlines()\n",
    "    #gender_labels = {line.split(',')[0] : int(line.split(',')[6]) for line in lines[2:]}\n",
    "    if os.path.isdir(images_dir):\n",
    "        all_features = []       # List of landmarks coordinates for the images\n",
    "        images_to_keep = []     # List of paths of the images, for which the landmarks are extracted\n",
    "        images_to_remove = []   # List of paths of the images, for which the landmarks cannot be extracted\n",
    "        for img_path in image_paths:\n",
    "            file_name= img_path.split('.')[1].split('/')[-1]\n",
    "\n",
    "            # load image\n",
    "            img = image.img_to_array(\n",
    "                image.load_img(img_path,\n",
    "                               target_size=target_size,\n",
    "                               interpolation='bicubic'))\n",
    "            features, _ = run_dlib_shape(img)\n",
    "            if features is not None:\n",
    "                all_features.append(features)\n",
    "                images_to_keep.append(img_path)\n",
    "\n",
    "                #all_labels.append(gender_labels[file_name])\n",
    "            else:\n",
    "                images_to_remove.append(img_path)\n",
    "\n",
    "    landmark_features = np.array(all_features)\n",
    "    return landmark_features, images_to_keep, images_to_remove, image_paths#, gender_labels\n",
    "\n"
   ]
  },
  {
   "cell_type": "code",
   "execution_count": 86,
   "metadata": {},
   "outputs": [],
   "source": [
    "imgs_features_test, imgs_to_keep_test, imgs_to_remove_test, imgs = extract_features_labels_test()"
   ]
  },
  {
   "cell_type": "code",
   "execution_count": 15,
   "metadata": {},
   "outputs": [
    {
     "name": "stdout",
     "output_type": "stream",
     "text": [
      "done\n"
     ]
    }
   ],
   "source": [
    "create a list of Image objects\n",
    "\n",
    "imageList_keep_test = []\n",
    "j=0\n",
    "for i in range (0,len(imgs)):\n",
    "    landmarks=[]   #extraction of the landmarks and paths of the images to be kept\n",
    "    if (j < len(imgs_to_keep_test)):\n",
    "        if (imgs[i] == imgs_to_keep_test[j]):\n",
    "            landmarks = imgs_features_test[j]\n",
    "            j = j+1\n",
    "    img = cv2.imread(imgs[i])                      # RGB 256x256x3 image array\n",
    "    gray = cv2.cvtColor(img, cv2.COLOR_BGR2GRAY)   # Gray image from RGB data\n",
    "   \n",
    "    \n",
    "    imageList_keep_test.append(Image(imgs[i], -1,     # The object is created and appended to the list.\n",
    "                          -1,                         # As the new images have no labels, -1 are applied\n",
    "                          -1,                         # However, these values are not used\n",
    "                          -1,\n",
    "                          -1,\n",
    "                          landmarks,\n",
    "                          img,\n",
    "                          gray))\n",
    "print(\"done\")"
   ]
  },
  {
   "cell_type": "markdown",
   "metadata": {},
   "source": [
    "There are images, tho which the landmarks cannot be assigned. Therefore, it's impossible to extract the features, required to the trained SVM's to predict the results. Therefore, MLP models created for the task are used for these images"
   ]
  },
  {
   "cell_type": "code",
   "execution_count": 135,
   "metadata": {},
   "outputs": [],
   "source": [
    "imageList_keep_test_noLandmarks=[]\n",
    "\n",
    "imageList_keep_test_noLandmarks.append(np.concatenate((imageList_keep_test, imageList_keep_test_noLandmarks), axis = 0))\n"
   ]
  },
  {
   "cell_type": "code",
   "execution_count": 136,
   "metadata": {},
   "outputs": [],
   "source": [
    "imageList_keep_test_noLandmarks_1 = []\n",
    "for i in range(0, len(imageList_keep_test)):\n",
    "    imageList_keep_test_noLandmarks_1.append(imageList_keep_test_noLandmarks[0][i])"
   ]
  },
  {
   "cell_type": "code",
   "execution_count": 137,
   "metadata": {},
   "outputs": [],
   "source": [
    "j=0\n",
    "removeIndex = []\n",
    "for i in range (0,len(imgs)):\n",
    "    if (j < len(imgs_to_remove_test)):\n",
    "        if (imageList_keep_test[i].image == imgs_to_remove_test[j]):\n",
    "            removeIndex.append(i)\n",
    "            j = j+1\n",
    "        #elif (imageList[i].hair_color == -1):\n",
    "            #removeIndex.append(i)"
   ]
  },
  {
   "cell_type": "markdown",
   "metadata": {},
   "source": [
    "The following block removes the images from the 'imageList'\n",
    "It is done in the reverse order, so that the last images are\n",
    "removed first, so that the indexes of the first images are not\n",
    "changing."
   ]
  },
  {
   "cell_type": "code",
   "execution_count": 139,
   "metadata": {},
   "outputs": [
    {
     "name": "stdout",
     "output_type": "stream",
     "text": [
      "done\n"
     ]
    }
   ],
   "source": [
    "removeIndex.reverse()\n",
    "for i in range (0 , len(removeIndex)):\n",
    "    removeElement = imageList_keep_test.pop(removeIndex[i])\n",
    "print(\"done\")\n"
   ]
  },
  {
   "cell_type": "code",
   "execution_count": 153,
   "metadata": {},
   "outputs": [
    {
     "data": {
      "text/plain": [
       "100"
      ]
     },
     "execution_count": 153,
     "metadata": {},
     "output_type": "execute_result"
    }
   ],
   "source": [
    "np.shape(imageList_keep_test_noLandmarks)[1]"
   ]
  },
  {
   "cell_type": "code",
   "execution_count": null,
   "metadata": {},
   "outputs": [],
   "source": []
  },
  {
   "cell_type": "code",
   "execution_count": 143,
   "metadata": {},
   "outputs": [],
   "source": [
    "j=0\n",
    "removeIndex = []\n",
    "for i in range (0,len(imgs)):\n",
    "    if (j < len(imgs_to_keep_test)):\n",
    "        if (imageList_keep_test_noLandmarks_1[i].image == imgs_to_keep_test[j]):\n",
    "            removeIndex.append(i)\n",
    "            j = j+1\n",
    "        #elif (imageList[i].hair_color == -1):\n",
    "            #removeIndex.append(i)"
   ]
  },
  {
   "cell_type": "markdown",
   "metadata": {},
   "source": [
    "The following block removes the images from the 'imageList'\n",
    "It is done in the reverse order, so that the last images are\n",
    "removed first, so that the indexes of the first images are not\n",
    "changing."
   ]
  },
  {
   "cell_type": "code",
   "execution_count": 144,
   "metadata": {},
   "outputs": [
    {
     "name": "stdout",
     "output_type": "stream",
     "text": [
      "done\n"
     ]
    }
   ],
   "source": [
    "removeIndex.reverse()\n",
    "for i in range (0 , len(removeIndex)):\n",
    "    removeElement = imageList_keep_test_noLandmarks_1.pop(removeIndex[i])\n",
    "print(\"done\")\n"
   ]
  },
  {
   "cell_type": "code",
   "execution_count": 145,
   "metadata": {},
   "outputs": [
    {
     "data": {
      "text/plain": [
       "(4,)"
      ]
     },
     "execution_count": 145,
     "metadata": {},
     "output_type": "execute_result"
    }
   ],
   "source": [
    "np.shape(imageList_keep_test_noLandmarks_1)"
   ]
  },
  {
   "cell_type": "code",
   "execution_count": 147,
   "metadata": {},
   "outputs": [
    {
     "name": "stdout",
     "output_type": "stream",
     "text": [
      "done\n"
     ]
    }
   ],
   "source": [
    "imageToProcessList_test = []\n",
    "j=0\n",
    "for i in range (0,len(imageList_keep_test)):\n",
    "\n",
    "    # Extract Histogram of Oriented Gradients from the image.\n",
    "    # The parameters were chosen experimentally. These parameters\n",
    "    # result to the high accuracy and good learning speed of the\n",
    "    # learning algorithms. The parameters can be changed, if needed\n",
    "    # for future purposes.\n",
    "    (hog, hogImage) = feature.hog(imageList_keep_test[i].gray, orientations=9, pixels_per_cell=(32, 32),\n",
    "                            cells_per_block=(2, 2), transform_sqrt=True, block_norm=\"L1\", visualise=True)\n",
    " \n",
    "    # 'hogImage' to visualize the HOG representation of the image\n",
    "    # if needed\n",
    "    hogImage = exposure.rescale_intensity(hogImage, out_range=(0, 255))\n",
    "    hogImage = hogImage.astype(\"uint8\")\n",
    "    \n",
    "    # Face center coordinates are obtaine as the mean x and y values\n",
    "    # of all the detected landmarks coordinates\n",
    "    faceCenter = np.mean(imageList_keep_test[i].landmarks,axis=0)\n",
    "    \n",
    "    # Variables to keep the Distances of the landmarks from the face center,\n",
    "    # and angles of the (center --->landmark) vectors\n",
    "    landmarkDistance = []\n",
    "    landmarkNormDistance = []\n",
    "    landmarkAngle = []\n",
    "    \n",
    "    # Maximum and minimum x and y coordinate are extracted from the landmarks\n",
    "    # coordinates. These are used to calculate normalized distances\n",
    "    # distance = ((x_center - x)^2 + (y_center - y)^2)^0.5\n",
    "    # maxDistance = ((xmax - xmin)^2 + (ymax - ymin)^2)^0.5\n",
    "    # normDistance = distance/maxDistance\n",
    "    xmax = imageList_keep_test[i].landmarks[0][0]\n",
    "    xmin = imageList_keep_test[i].landmarks[0][0]\n",
    "    ymax = imageList_keep_test[i].landmarks[0][1]\n",
    "    ymin = imageList_keep_test[i].landmarks[0][1]\n",
    "    for l in range(0, len(imageList_keep_test[i].landmarks)):\n",
    "        if (imageList_keep_test[i].landmarks[l][0] > xmax):\n",
    "            xmax = imageList_keep_test[i].landmarks[l][0]\n",
    "        if (imageList_keep_test[i].landmarks[l][0] < xmin):\n",
    "            xmin = imageList_keep_test[i].landmarks[l][0]\n",
    "        if (imageList_keep_test[i].landmarks[l][1] > ymax):\n",
    "            ymax = imageList_keep_test[i].landmarks[l][1]\n",
    "        if (imageList_keep_test[i].landmarks[l][1] < ymin):\n",
    "            ymin = imageList_keep_test[i].landmarks[l][1]\n",
    "    maxDist = math.sqrt(pow(xmax - xmin, 2) + pow(ymax - ymin, 2))\n",
    "    \n",
    "    \n",
    "    for j in range (0, len(imageList_keep_test[i].landmarks)):\n",
    "        landmarkDistance.append((math.sqrt(pow(faceCenter[0] - imageList_keep_test[i].landmarks[j][0], 2) \n",
    "                                           + pow(faceCenter[1] - imageList_keep_test[i].landmarks[j][1], 2))))\n",
    "        \n",
    "        landmarkNormDistance.append((math.sqrt(pow(faceCenter[0] - imageList_keep_test[i].landmarks[j][0], 2) \n",
    "                                           + pow(faceCenter[1] - imageList_keep_test[i].landmarks[j][1], 2)))/maxDist)\n",
    "        \n",
    "        landmarkAngle.append(((math.atan2(faceCenter[1] - imageList_keep_test[i].landmarks[j][1],\n",
    "                                        faceCenter[0] - imageList_keep_test[i].landmarks[j][0])*360)/(2*math.pi) + 180)/360)\n",
    "    \n",
    "    imageToProcessList_test.append(ImageToProcess(imageList_keep_test[i],\n",
    "                                             hog,hogImage,\n",
    "                                             faceCenter,\n",
    "                                             landmarkDistance,\n",
    "                                             landmarkNormDistance,\n",
    "                                             landmarkAngle))\n",
    "print(\"done\")"
   ]
  },
  {
   "cell_type": "code",
   "execution_count": 148,
   "metadata": {},
   "outputs": [
    {
     "name": "stdout",
     "output_type": "stream",
     "text": [
      "(96, 256, 256, 3)\n",
      "(4, 256, 256, 3)\n",
      "(96, 256, 256)\n",
      "(96, 68, 2)\n",
      "(96, 1764)\n",
      "(96, 68)\n",
      "(96, 68)\n"
     ]
    }
   ],
   "source": [
    "img = [o.imageInfo.img for o in imageToProcessList_test]\n",
    "print(np.shape(img))\n",
    "\n",
    "img_noLandmarks = [o.img for o in imageList_keep_test_noLandmarks_1]\n",
    "print(np.shape(img_noLandmarks))\n",
    "\n",
    "gray = [o.imageInfo.gray for o in imageToProcessList_test]\n",
    "print(np.shape(gray))\n",
    "\n",
    "landmarks = [o.imageInfo.landmarks for o in imageToProcessList_test]\n",
    "print(np.shape(landmarks))\n",
    "\n",
    "hog = [o.hog for o in imageToProcessList_test]\n",
    "print(np.shape(hog))\n",
    "\n",
    "NormDist = [o.landmarkNormDistance for o in imageToProcessList_test]\n",
    "print(np.shape(NormDist))\n",
    "\n",
    "Angle = [o.landmarkAngle for o in imageToProcessList_test]\n",
    "print(np.shape(Angle))"
   ]
  },
  {
   "cell_type": "code",
   "execution_count": 149,
   "metadata": {},
   "outputs": [
    {
     "name": "stdout",
     "output_type": "stream",
     "text": [
      "(96, 68)\n",
      "(96, 68)\n",
      "(96, 136)\n",
      "(96, 1900)\n"
     ]
    }
   ],
   "source": [
    "NormDist_Angle_hog = []\n",
    "NormDist_Angle = []\n",
    "for i in range (0, len(NormDist)):\n",
    "    NormDist_Angle.append(np.concatenate((NormDist[i], Angle[i]), axis = 0))\n",
    "    NormDist_Angle_hog.append(np.concatenate((NormDist_Angle[i], hog[i]), axis = 0))\n",
    "print(np.shape(NormDist))\n",
    "print(np.shape(Angle))\n",
    "print(np.shape(NormDist_Angle))\n",
    "print(np.shape(NormDist_Angle_hog))\n"
   ]
  },
  {
   "cell_type": "code",
   "execution_count": 150,
   "metadata": {},
   "outputs": [
    {
     "name": "stdout",
     "output_type": "stream",
     "text": [
      "(96, 2352)\n",
      "(4, 2352)\n"
     ]
    }
   ],
   "source": [
    "img_toProcess = img_reshape(28,28,img)\n",
    "img_toProcess_noLandmarks = img_reshape(28,28,img_noLandmarks)"
   ]
  },
  {
   "cell_type": "markdown",
   "metadata": {},
   "source": [
    "Prediction of the results for each task for the new testing dataset. For the images, to where the landmarks could not be appied, are used with the MLP models trained for each task."
   ]
  },
  {
   "cell_type": "code",
   "execution_count": 151,
   "metadata": {},
   "outputs": [],
   "source": [
    "smile_pred = svc_smile_rbf_NormDist_Angle_hog.predict(np.asarray(NormDist_Angle_hog))\n",
    "\n",
    "smile_pred_noLandmarks = mlp_smile.predict(np.asarray(img_toProcess_noLandmarks))\n",
    "\n",
    "young_pred = mlp_young.predict(np.asarray(img_toProcess))\n",
    "\n",
    "young_pred_noLandmarks = mlp_young.predict(np.asarray(img_toProcess_noLandmarks))\n",
    "\n",
    "glasses_pred = svc_glasses_lin_NormDist_Angle_hog.predict(np.asarray(NormDist_Angle_hog))\n",
    "\n",
    "glasses_pred_noLandmarks = mlp_eyeglasses.predict(np.asarray(img_toProcess_noLandmarks))\n",
    "\n",
    "human_pred = mlp_human.predict(np.asarray(img_toProcess))\n",
    "\n",
    "human_pred_noLandmarks = mlp_human.predict(np.asarray(img_toProcess_noLandmarks))\n",
    "\n",
    "hair_pred = mlp_hair_color.predict(np.asarray(img_toProcess))\n",
    "\n",
    "hair_pred_noLandmarks = mlp_hair_color.predict(np.asarray(img_toProcess_noLandmarks))\n"
   ]
  },
  {
   "cell_type": "markdown",
   "metadata": {},
   "source": [
    "Creation of the new csv file, which will contain all the results for the additional testing dataset"
   ]
  },
  {
   "cell_type": "code",
   "execution_count": 157,
   "metadata": {},
   "outputs": [],
   "source": [
    "with open('additional_Test.csv', 'w') as csvfile:\n",
    "    filewriter = csv.writer(csvfile, delimiter=',', quotechar='|', quoting=csv.QUOTE_MINIMAL)\n",
    "    #filewriter.writerow(['', ''])\n",
    "    filewriter.writerow([np.shape(imageList_keep_test_noLandmarks)[1]])\n",
    "    filewriter.writerow(['file_name', 'smiling', 'young', 'eyeglasses', 'human', 'hair_color'])\n",
    "    for i in range(0, len(smile_pred)):\n",
    "        filewriter.writerow([imageToProcessList_test[i].imageInfo.image[50:],\n",
    "                             smile_pred[i],\n",
    "                             young_pred[i],\n",
    "                             glasses_pred[i],\n",
    "                             human_pred[i],\n",
    "                             hair_pred[i]])\n",
    "    for i in range(0, len(smile_pred_noLandmarks)):\n",
    "        filewriter.writerow([imageList_keep_test_noLandmarks_1[i].image[50:],\n",
    "                             smile_pred_noLandmarks[i],\n",
    "                             young_pred_noLandmarks[i],\n",
    "                             glasses_pred_noLandmarks[i],\n",
    "                             human_pred_noLandmarks[i],\n",
    "                             hair_pred_noLandmarks[i]])\n",
    "        \n",
    "        #filewriter.writerow(['', ''])"
   ]
  },
  {
   "cell_type": "code",
   "execution_count": null,
   "metadata": {},
   "outputs": [],
   "source": []
  }
 ],
 "metadata": {
  "celltoolbar": "Raw Cell Format",
  "kernelspec": {
   "display_name": "Python 3",
   "language": "python",
   "name": "python3"
  },
  "language_info": {
   "codemirror_mode": {
    "name": "ipython",
    "version": 3
   },
   "file_extension": ".py",
   "mimetype": "text/x-python",
   "name": "python",
   "nbconvert_exporter": "python",
   "pygments_lexer": "ipython3",
   "version": "3.6.7"
  }
 },
 "nbformat": 4,
 "nbformat_minor": 2
}
